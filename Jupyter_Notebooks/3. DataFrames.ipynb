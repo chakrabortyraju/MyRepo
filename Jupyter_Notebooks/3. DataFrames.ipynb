{
  "cells": [
    {
      "metadata": {
        "collapsed": true
      },
      "cell_type": "markdown",
      "source": "# DataFrames\n\nDataFrames are the workhorse of pandas and are directly inspired by the R programming language. We can think of a DataFrame as a bunch of Series objects put together to share the same index. Let's use pandas to explore this topic!"
    },
    {
      "metadata": {
        "trusted": true
      },
      "cell_type": "code",
      "source": "import pandas as pd\nimport numpy as np",
      "execution_count": 3,
      "outputs": []
    },
    {
      "metadata": {
        "trusted": true
      },
      "cell_type": "code",
      "source": "from numpy.random import randn\nnp.random.seed(101)",
      "execution_count": 8,
      "outputs": []
    },
    {
      "metadata": {
        "trusted": true
      },
      "cell_type": "code",
      "source": "df = pd.DataFrame([[1,3],[3,4,5]], index=['a', 'ab'], columns='A,B,C'.split(','))\ndf\n",
      "execution_count": 20,
      "outputs": [
        {
          "output_type": "execute_result",
          "execution_count": 20,
          "data": {
            "text/html": "<div>\n<table border=\"1\" class=\"dataframe\">\n  <thead>\n    <tr style=\"text-align: right;\">\n      <th></th>\n      <th>A</th>\n      <th>B</th>\n      <th>C</th>\n    </tr>\n  </thead>\n  <tbody>\n    <tr>\n      <th>a</th>\n      <td>1</td>\n      <td>3</td>\n      <td>NaN</td>\n    </tr>\n    <tr>\n      <th>ab</th>\n      <td>3</td>\n      <td>4</td>\n      <td>5.0</td>\n    </tr>\n  </tbody>\n</table>\n</div>",
            "text/plain": "    A  B    C\na   1  3  NaN\nab  3  4  5.0"
          },
          "metadata": {}
        }
      ]
    },
    {
      "metadata": {
        "trusted": true
      },
      "cell_type": "code",
      "source": "train = pd.DataFrame({'id':[1,2,4],'features':[[\"A\",\"B\",\"C\"],[\"A\",\"D\",\"E\"],[\"C\",\"D\",\"F\"]]})\ntrain['features_t'] = train[\"features\"].apply(lambda x: \" \".join(x))\nprint(train['features_t'])",
      "execution_count": 23,
      "outputs": [
        {
          "output_type": "stream",
          "text": "0    A B C\n1    A D E\n2    C D F\nName: features_t, dtype: object\n",
          "name": "stdout"
        }
      ]
    },
    {
      "metadata": {
        "trusted": true
      },
      "cell_type": "code",
      "source": "df = pd.DataFrame({'Click_Id':['A','B','C','D','E'],'Count':[100,200,300,400,250]})\ndf.rename(columns = {'Count':'Click_Count'})\nprint(df.columns)",
      "execution_count": 25,
      "outputs": [
        {
          "output_type": "stream",
          "text": "Index(['Click_Id', 'Count'], dtype='object')\n",
          "name": "stdout"
        }
      ]
    },
    {
      "metadata": {
        "trusted": true
      },
      "cell_type": "code",
      "source": "A = (([1,2,3]), [1,2,3])\nB = ([1,2,3], [1,2,3])\nA*B",
      "execution_count": 26,
      "outputs": [
        {
          "output_type": "error",
          "ename": "TypeError",
          "evalue": "can't multiply sequence by non-int of type 'tuple'",
          "traceback": [
            "\u001b[0;31m---------------------------------------------------------------------------\u001b[0m",
            "\u001b[0;31mTypeError\u001b[0m                                 Traceback (most recent call last)",
            "\u001b[0;32m<ipython-input-26-3d4d0f3533fd>\u001b[0m in \u001b[0;36m<module>\u001b[0;34m()\u001b[0m\n\u001b[1;32m      1\u001b[0m \u001b[0mA\u001b[0m \u001b[0;34m=\u001b[0m \u001b[0;34m(\u001b[0m\u001b[0;34m[\u001b[0m\u001b[0;36m1\u001b[0m\u001b[0;34m,\u001b[0m\u001b[0;36m2\u001b[0m\u001b[0;34m,\u001b[0m\u001b[0;36m3\u001b[0m\u001b[0;34m]\u001b[0m\u001b[0;34m,\u001b[0m \u001b[0;34m[\u001b[0m\u001b[0;36m1\u001b[0m\u001b[0;34m,\u001b[0m\u001b[0;36m2\u001b[0m\u001b[0;34m,\u001b[0m\u001b[0;36m3\u001b[0m\u001b[0;34m]\u001b[0m\u001b[0;34m)\u001b[0m\u001b[0;34m\u001b[0m\u001b[0m\n\u001b[1;32m      2\u001b[0m \u001b[0mB\u001b[0m \u001b[0;34m=\u001b[0m \u001b[0;34m(\u001b[0m\u001b[0;34m[\u001b[0m\u001b[0;36m1\u001b[0m\u001b[0;34m,\u001b[0m\u001b[0;36m2\u001b[0m\u001b[0;34m,\u001b[0m\u001b[0;36m3\u001b[0m\u001b[0;34m]\u001b[0m\u001b[0;34m,\u001b[0m \u001b[0;34m[\u001b[0m\u001b[0;36m1\u001b[0m\u001b[0;34m,\u001b[0m\u001b[0;36m2\u001b[0m\u001b[0;34m,\u001b[0m\u001b[0;36m3\u001b[0m\u001b[0;34m]\u001b[0m\u001b[0;34m)\u001b[0m\u001b[0;34m\u001b[0m\u001b[0m\n\u001b[0;32m----> 3\u001b[0;31m \u001b[0mA\u001b[0m\u001b[0;34m*\u001b[0m\u001b[0mB\u001b[0m\u001b[0;34m\u001b[0m\u001b[0m\n\u001b[0m",
            "\u001b[0;31mTypeError\u001b[0m: can't multiply sequence by non-int of type 'tuple'"
          ]
        }
      ]
    },
    {
      "metadata": {
        "trusted": true
      },
      "cell_type": "code",
      "source": "import numpy as np \n\nimport numpy.linalg\nA = np.mat([[2, 1], [1, 2]])\n\nB = numpy.linalg.inv(A)\n\nA * B",
      "execution_count": 28,
      "outputs": [
        {
          "output_type": "execute_result",
          "execution_count": 28,
          "data": {
            "text/plain": "matrix([[1., 0.],\n        [0., 1.]])"
          },
          "metadata": {}
        }
      ]
    },
    {
      "metadata": {
        "trusted": true
      },
      "cell_type": "code",
      "source": "df = pd.DataFrame([[1,3],[3,4,5]], index=['a', 'ab'], columns='A,B,C'.split(','))\ndf.loc[:,df.notnull().all()]",
      "execution_count": 19,
      "outputs": [
        {
          "output_type": "execute_result",
          "execution_count": 19,
          "data": {
            "text/html": "<div>\n<table border=\"1\" class=\"dataframe\">\n  <thead>\n    <tr style=\"text-align: right;\">\n      <th></th>\n      <th>A</th>\n      <th>B</th>\n    </tr>\n  </thead>\n  <tbody>\n    <tr>\n      <th>a</th>\n      <td>1</td>\n      <td>3</td>\n    </tr>\n    <tr>\n      <th>ab</th>\n      <td>3</td>\n      <td>4</td>\n    </tr>\n  </tbody>\n</table>\n</div>",
            "text/plain": "    A  B\na   1  3\nab  3  4"
          },
          "metadata": {}
        }
      ]
    },
    {
      "metadata": {
        "trusted": false
      },
      "cell_type": "code",
      "source": "data = pd.DataFrame(randn(5,4))\ndata",
      "execution_count": 4,
      "outputs": [
        {
          "data": {
            "text/html": "<div>\n<style scoped>\n    .dataframe tbody tr th:only-of-type {\n        vertical-align: middle;\n    }\n\n    .dataframe tbody tr th {\n        vertical-align: top;\n    }\n\n    .dataframe thead th {\n        text-align: right;\n    }\n</style>\n<table border=\"1\" class=\"dataframe\">\n  <thead>\n    <tr style=\"text-align: right;\">\n      <th></th>\n      <th>0</th>\n      <th>1</th>\n      <th>2</th>\n      <th>3</th>\n    </tr>\n  </thead>\n  <tbody>\n    <tr>\n      <th>0</th>\n      <td>2.706850</td>\n      <td>0.628133</td>\n      <td>0.907969</td>\n      <td>0.503826</td>\n    </tr>\n    <tr>\n      <th>1</th>\n      <td>0.651118</td>\n      <td>-0.319318</td>\n      <td>-0.848077</td>\n      <td>0.605965</td>\n    </tr>\n    <tr>\n      <th>2</th>\n      <td>-2.018168</td>\n      <td>0.740122</td>\n      <td>0.528813</td>\n      <td>-0.589001</td>\n    </tr>\n    <tr>\n      <th>3</th>\n      <td>0.188695</td>\n      <td>-0.758872</td>\n      <td>-0.933237</td>\n      <td>0.955057</td>\n    </tr>\n    <tr>\n      <th>4</th>\n      <td>0.190794</td>\n      <td>1.978757</td>\n      <td>2.605967</td>\n      <td>0.683509</td>\n    </tr>\n  </tbody>\n</table>\n</div>",
            "text/plain": "          0         1         2         3\n0  2.706850  0.628133  0.907969  0.503826\n1  0.651118 -0.319318 -0.848077  0.605965\n2 -2.018168  0.740122  0.528813 -0.589001\n3  0.188695 -0.758872 -0.933237  0.955057\n4  0.190794  1.978757  2.605967  0.683509"
          },
          "execution_count": 4,
          "metadata": {},
          "output_type": "execute_result"
        }
      ]
    },
    {
      "metadata": {
        "trusted": true
      },
      "cell_type": "code",
      "source": "df = pd.DataFrame(randn(5,4),index='A B C D E'.split(),columns='W X Y Z'.split())\ndf.loc[:,df.notnull().all()]",
      "execution_count": 13,
      "outputs": [
        {
          "output_type": "execute_result",
          "execution_count": 13,
          "data": {
            "text/html": "<div>\n<table border=\"1\" class=\"dataframe\">\n  <thead>\n    <tr style=\"text-align: right;\">\n      <th></th>\n      <th>W</th>\n      <th>X</th>\n      <th>Y</th>\n      <th>Z</th>\n    </tr>\n  </thead>\n  <tbody>\n    <tr>\n      <th>A</th>\n      <td>-1.467514</td>\n      <td>-0.494095</td>\n      <td>-0.162535</td>\n      <td>0.485809</td>\n    </tr>\n    <tr>\n      <th>B</th>\n      <td>0.392489</td>\n      <td>0.221491</td>\n      <td>-0.855196</td>\n      <td>1.541990</td>\n    </tr>\n    <tr>\n      <th>C</th>\n      <td>0.666319</td>\n      <td>-0.538235</td>\n      <td>-0.568581</td>\n      <td>1.407338</td>\n    </tr>\n    <tr>\n      <th>D</th>\n      <td>0.641806</td>\n      <td>-0.905100</td>\n      <td>-0.391157</td>\n      <td>1.028293</td>\n    </tr>\n    <tr>\n      <th>E</th>\n      <td>-1.972605</td>\n      <td>-0.866885</td>\n      <td>0.720788</td>\n      <td>-1.223082</td>\n    </tr>\n  </tbody>\n</table>\n</div>",
            "text/plain": "          W         X         Y         Z\nA -1.467514 -0.494095 -0.162535  0.485809\nB  0.392489  0.221491 -0.855196  1.541990\nC  0.666319 -0.538235 -0.568581  1.407338\nD  0.641806 -0.905100 -0.391157  1.028293\nE -1.972605 -0.866885  0.720788 -1.223082"
          },
          "metadata": {}
        }
      ]
    },
    {
      "metadata": {
        "trusted": true
      },
      "cell_type": "code",
      "source": "df = pd.DataFrame(randint(20).reshape(5,4),index='A B C D E'.split(),columns='W X Y Z'.split())\ndf",
      "execution_count": 7,
      "outputs": [
        {
          "output_type": "error",
          "ename": "NameError",
          "evalue": "name 'randint' is not defined",
          "traceback": [
            "\u001b[0;31m---------------------------------------------------------------------------\u001b[0m",
            "\u001b[0;31mNameError\u001b[0m                                 Traceback (most recent call last)",
            "\u001b[0;32m<ipython-input-7-bdd42d72fb24>\u001b[0m in \u001b[0;36m<module>\u001b[0;34m()\u001b[0m\n\u001b[0;32m----> 1\u001b[0;31m \u001b[0mdf\u001b[0m \u001b[0;34m=\u001b[0m \u001b[0mpd\u001b[0m\u001b[0;34m.\u001b[0m\u001b[0mDataFrame\u001b[0m\u001b[0;34m(\u001b[0m\u001b[0mrandint\u001b[0m\u001b[0;34m(\u001b[0m\u001b[0;36m20\u001b[0m\u001b[0;34m)\u001b[0m\u001b[0;34m.\u001b[0m\u001b[0mreshape\u001b[0m\u001b[0;34m(\u001b[0m\u001b[0;36m5\u001b[0m\u001b[0;34m,\u001b[0m\u001b[0;36m4\u001b[0m\u001b[0;34m)\u001b[0m\u001b[0;34m,\u001b[0m\u001b[0mindex\u001b[0m\u001b[0;34m=\u001b[0m\u001b[0;34m'A B C D E'\u001b[0m\u001b[0;34m.\u001b[0m\u001b[0msplit\u001b[0m\u001b[0;34m(\u001b[0m\u001b[0;34m)\u001b[0m\u001b[0;34m,\u001b[0m\u001b[0mcolumns\u001b[0m\u001b[0;34m=\u001b[0m\u001b[0;34m'W X Y Z'\u001b[0m\u001b[0;34m.\u001b[0m\u001b[0msplit\u001b[0m\u001b[0;34m(\u001b[0m\u001b[0;34m)\u001b[0m\u001b[0;34m)\u001b[0m\u001b[0;34m\u001b[0m\u001b[0m\n\u001b[0m\u001b[1;32m      2\u001b[0m \u001b[0mdf\u001b[0m\u001b[0;34m\u001b[0m\u001b[0m\n",
            "\u001b[0;31mNameError\u001b[0m: name 'randint' is not defined"
          ]
        }
      ]
    },
    {
      "metadata": {
        "trusted": false
      },
      "cell_type": "code",
      "source": "df",
      "execution_count": 7,
      "outputs": [
        {
          "data": {
            "text/html": "<div>\n<style scoped>\n    .dataframe tbody tr th:only-of-type {\n        vertical-align: middle;\n    }\n\n    .dataframe tbody tr th {\n        vertical-align: top;\n    }\n\n    .dataframe thead th {\n        text-align: right;\n    }\n</style>\n<table border=\"1\" class=\"dataframe\">\n  <thead>\n    <tr style=\"text-align: right;\">\n      <th></th>\n      <th>W</th>\n      <th>X</th>\n      <th>Y</th>\n      <th>Z</th>\n    </tr>\n  </thead>\n  <tbody>\n    <tr>\n      <th>A</th>\n      <td>0.302665</td>\n      <td>1.693723</td>\n      <td>-1.706086</td>\n      <td>-1.159119</td>\n    </tr>\n    <tr>\n      <th>B</th>\n      <td>-0.134841</td>\n      <td>0.390528</td>\n      <td>0.166905</td>\n      <td>0.184502</td>\n    </tr>\n    <tr>\n      <th>C</th>\n      <td>0.807706</td>\n      <td>0.072960</td>\n      <td>0.638787</td>\n      <td>0.329646</td>\n    </tr>\n    <tr>\n      <th>D</th>\n      <td>-0.497104</td>\n      <td>-0.754070</td>\n      <td>-0.943406</td>\n      <td>0.484752</td>\n    </tr>\n    <tr>\n      <th>E</th>\n      <td>-0.116773</td>\n      <td>1.901755</td>\n      <td>0.238127</td>\n      <td>1.996652</td>\n    </tr>\n  </tbody>\n</table>\n</div>",
            "text/plain": "          W         X         Y         Z\nA  0.302665  1.693723 -1.706086 -1.159119\nB -0.134841  0.390528  0.166905  0.184502\nC  0.807706  0.072960  0.638787  0.329646\nD -0.497104 -0.754070 -0.943406  0.484752\nE -0.116773  1.901755  0.238127  1.996652"
          },
          "execution_count": 7,
          "metadata": {},
          "output_type": "execute_result"
        }
      ]
    },
    {
      "metadata": {},
      "cell_type": "markdown",
      "source": "## Selection and Indexing\n\nLet's learn the various methods to grab data from a DataFrame"
    },
    {
      "metadata": {
        "trusted": false
      },
      "cell_type": "code",
      "source": "df['W']",
      "execution_count": 8,
      "outputs": [
        {
          "data": {
            "text/plain": "A    0.302665\nB   -0.134841\nC    0.807706\nD   -0.497104\nE   -0.116773\nName: W, dtype: float64"
          },
          "execution_count": 8,
          "metadata": {},
          "output_type": "execute_result"
        }
      ]
    },
    {
      "metadata": {
        "trusted": false
      },
      "cell_type": "code",
      "source": "# Pass a list of column names\ndf[['W','Z']]",
      "execution_count": 9,
      "outputs": [
        {
          "data": {
            "text/html": "<div>\n<style scoped>\n    .dataframe tbody tr th:only-of-type {\n        vertical-align: middle;\n    }\n\n    .dataframe tbody tr th {\n        vertical-align: top;\n    }\n\n    .dataframe thead th {\n        text-align: right;\n    }\n</style>\n<table border=\"1\" class=\"dataframe\">\n  <thead>\n    <tr style=\"text-align: right;\">\n      <th></th>\n      <th>W</th>\n      <th>Z</th>\n    </tr>\n  </thead>\n  <tbody>\n    <tr>\n      <th>A</th>\n      <td>0.302665</td>\n      <td>-1.159119</td>\n    </tr>\n    <tr>\n      <th>B</th>\n      <td>-0.134841</td>\n      <td>0.184502</td>\n    </tr>\n    <tr>\n      <th>C</th>\n      <td>0.807706</td>\n      <td>0.329646</td>\n    </tr>\n    <tr>\n      <th>D</th>\n      <td>-0.497104</td>\n      <td>0.484752</td>\n    </tr>\n    <tr>\n      <th>E</th>\n      <td>-0.116773</td>\n      <td>1.996652</td>\n    </tr>\n  </tbody>\n</table>\n</div>",
            "text/plain": "          W         Z\nA  0.302665 -1.159119\nB -0.134841  0.184502\nC  0.807706  0.329646\nD -0.497104  0.484752\nE -0.116773  1.996652"
          },
          "execution_count": 9,
          "metadata": {},
          "output_type": "execute_result"
        }
      ]
    },
    {
      "metadata": {
        "trusted": false
      },
      "cell_type": "code",
      "source": "# SQL Syntax (NOT RECOMMENDED!)\ndf.W",
      "execution_count": 10,
      "outputs": [
        {
          "data": {
            "text/plain": "A    0.302665\nB   -0.134841\nC    0.807706\nD   -0.497104\nE   -0.116773\nName: W, dtype: float64"
          },
          "execution_count": 10,
          "metadata": {},
          "output_type": "execute_result"
        }
      ]
    },
    {
      "metadata": {},
      "cell_type": "markdown",
      "source": "DataFrame Columns are just Series"
    },
    {
      "metadata": {
        "trusted": false
      },
      "cell_type": "code",
      "source": "type(df['W'])",
      "execution_count": 11,
      "outputs": [
        {
          "data": {
            "text/plain": "pandas.core.series.Series"
          },
          "execution_count": 11,
          "metadata": {},
          "output_type": "execute_result"
        }
      ]
    },
    {
      "metadata": {},
      "cell_type": "markdown",
      "source": "**Creating a new column:**"
    },
    {
      "metadata": {
        "trusted": false
      },
      "cell_type": "code",
      "source": "df['new'] = df['W'] + df['Y']",
      "execution_count": 12,
      "outputs": []
    },
    {
      "metadata": {
        "trusted": false
      },
      "cell_type": "code",
      "source": "df",
      "execution_count": 13,
      "outputs": [
        {
          "data": {
            "text/html": "<div>\n<style scoped>\n    .dataframe tbody tr th:only-of-type {\n        vertical-align: middle;\n    }\n\n    .dataframe tbody tr th {\n        vertical-align: top;\n    }\n\n    .dataframe thead th {\n        text-align: right;\n    }\n</style>\n<table border=\"1\" class=\"dataframe\">\n  <thead>\n    <tr style=\"text-align: right;\">\n      <th></th>\n      <th>W</th>\n      <th>X</th>\n      <th>Y</th>\n      <th>Z</th>\n      <th>new</th>\n    </tr>\n  </thead>\n  <tbody>\n    <tr>\n      <th>A</th>\n      <td>0.302665</td>\n      <td>1.693723</td>\n      <td>-1.706086</td>\n      <td>-1.159119</td>\n      <td>-1.403420</td>\n    </tr>\n    <tr>\n      <th>B</th>\n      <td>-0.134841</td>\n      <td>0.390528</td>\n      <td>0.166905</td>\n      <td>0.184502</td>\n      <td>0.032064</td>\n    </tr>\n    <tr>\n      <th>C</th>\n      <td>0.807706</td>\n      <td>0.072960</td>\n      <td>0.638787</td>\n      <td>0.329646</td>\n      <td>1.446493</td>\n    </tr>\n    <tr>\n      <th>D</th>\n      <td>-0.497104</td>\n      <td>-0.754070</td>\n      <td>-0.943406</td>\n      <td>0.484752</td>\n      <td>-1.440510</td>\n    </tr>\n    <tr>\n      <th>E</th>\n      <td>-0.116773</td>\n      <td>1.901755</td>\n      <td>0.238127</td>\n      <td>1.996652</td>\n      <td>0.121354</td>\n    </tr>\n  </tbody>\n</table>\n</div>",
            "text/plain": "          W         X         Y         Z       new\nA  0.302665  1.693723 -1.706086 -1.159119 -1.403420\nB -0.134841  0.390528  0.166905  0.184502  0.032064\nC  0.807706  0.072960  0.638787  0.329646  1.446493\nD -0.497104 -0.754070 -0.943406  0.484752 -1.440510\nE -0.116773  1.901755  0.238127  1.996652  0.121354"
          },
          "execution_count": 13,
          "metadata": {},
          "output_type": "execute_result"
        }
      ]
    },
    {
      "metadata": {},
      "cell_type": "markdown",
      "source": "**Removing Columns**"
    },
    {
      "metadata": {
        "trusted": false
      },
      "cell_type": "code",
      "source": "df.drop('new',axis=1)",
      "execution_count": 14,
      "outputs": [
        {
          "data": {
            "text/html": "<div>\n<style scoped>\n    .dataframe tbody tr th:only-of-type {\n        vertical-align: middle;\n    }\n\n    .dataframe tbody tr th {\n        vertical-align: top;\n    }\n\n    .dataframe thead th {\n        text-align: right;\n    }\n</style>\n<table border=\"1\" class=\"dataframe\">\n  <thead>\n    <tr style=\"text-align: right;\">\n      <th></th>\n      <th>W</th>\n      <th>X</th>\n      <th>Y</th>\n      <th>Z</th>\n    </tr>\n  </thead>\n  <tbody>\n    <tr>\n      <th>A</th>\n      <td>0.302665</td>\n      <td>1.693723</td>\n      <td>-1.706086</td>\n      <td>-1.159119</td>\n    </tr>\n    <tr>\n      <th>B</th>\n      <td>-0.134841</td>\n      <td>0.390528</td>\n      <td>0.166905</td>\n      <td>0.184502</td>\n    </tr>\n    <tr>\n      <th>C</th>\n      <td>0.807706</td>\n      <td>0.072960</td>\n      <td>0.638787</td>\n      <td>0.329646</td>\n    </tr>\n    <tr>\n      <th>D</th>\n      <td>-0.497104</td>\n      <td>-0.754070</td>\n      <td>-0.943406</td>\n      <td>0.484752</td>\n    </tr>\n    <tr>\n      <th>E</th>\n      <td>-0.116773</td>\n      <td>1.901755</td>\n      <td>0.238127</td>\n      <td>1.996652</td>\n    </tr>\n  </tbody>\n</table>\n</div>",
            "text/plain": "          W         X         Y         Z\nA  0.302665  1.693723 -1.706086 -1.159119\nB -0.134841  0.390528  0.166905  0.184502\nC  0.807706  0.072960  0.638787  0.329646\nD -0.497104 -0.754070 -0.943406  0.484752\nE -0.116773  1.901755  0.238127  1.996652"
          },
          "execution_count": 14,
          "metadata": {},
          "output_type": "execute_result"
        }
      ]
    },
    {
      "metadata": {
        "trusted": false
      },
      "cell_type": "code",
      "source": "df.drop('A', axis=0)",
      "execution_count": 15,
      "outputs": [
        {
          "data": {
            "text/html": "<div>\n<style scoped>\n    .dataframe tbody tr th:only-of-type {\n        vertical-align: middle;\n    }\n\n    .dataframe tbody tr th {\n        vertical-align: top;\n    }\n\n    .dataframe thead th {\n        text-align: right;\n    }\n</style>\n<table border=\"1\" class=\"dataframe\">\n  <thead>\n    <tr style=\"text-align: right;\">\n      <th></th>\n      <th>W</th>\n      <th>X</th>\n      <th>Y</th>\n      <th>Z</th>\n      <th>new</th>\n    </tr>\n  </thead>\n  <tbody>\n    <tr>\n      <th>B</th>\n      <td>-0.134841</td>\n      <td>0.390528</td>\n      <td>0.166905</td>\n      <td>0.184502</td>\n      <td>0.032064</td>\n    </tr>\n    <tr>\n      <th>C</th>\n      <td>0.807706</td>\n      <td>0.072960</td>\n      <td>0.638787</td>\n      <td>0.329646</td>\n      <td>1.446493</td>\n    </tr>\n    <tr>\n      <th>D</th>\n      <td>-0.497104</td>\n      <td>-0.754070</td>\n      <td>-0.943406</td>\n      <td>0.484752</td>\n      <td>-1.440510</td>\n    </tr>\n    <tr>\n      <th>E</th>\n      <td>-0.116773</td>\n      <td>1.901755</td>\n      <td>0.238127</td>\n      <td>1.996652</td>\n      <td>0.121354</td>\n    </tr>\n  </tbody>\n</table>\n</div>",
            "text/plain": "          W         X         Y         Z       new\nB -0.134841  0.390528  0.166905  0.184502  0.032064\nC  0.807706  0.072960  0.638787  0.329646  1.446493\nD -0.497104 -0.754070 -0.943406  0.484752 -1.440510\nE -0.116773  1.901755  0.238127  1.996652  0.121354"
          },
          "execution_count": 15,
          "metadata": {},
          "output_type": "execute_result"
        }
      ]
    },
    {
      "metadata": {
        "trusted": false
      },
      "cell_type": "code",
      "source": "# Not inplace unless specified!\ndf",
      "execution_count": 16,
      "outputs": [
        {
          "data": {
            "text/html": "<div>\n<style scoped>\n    .dataframe tbody tr th:only-of-type {\n        vertical-align: middle;\n    }\n\n    .dataframe tbody tr th {\n        vertical-align: top;\n    }\n\n    .dataframe thead th {\n        text-align: right;\n    }\n</style>\n<table border=\"1\" class=\"dataframe\">\n  <thead>\n    <tr style=\"text-align: right;\">\n      <th></th>\n      <th>W</th>\n      <th>X</th>\n      <th>Y</th>\n      <th>Z</th>\n      <th>new</th>\n    </tr>\n  </thead>\n  <tbody>\n    <tr>\n      <th>A</th>\n      <td>0.302665</td>\n      <td>1.693723</td>\n      <td>-1.706086</td>\n      <td>-1.159119</td>\n      <td>-1.403420</td>\n    </tr>\n    <tr>\n      <th>B</th>\n      <td>-0.134841</td>\n      <td>0.390528</td>\n      <td>0.166905</td>\n      <td>0.184502</td>\n      <td>0.032064</td>\n    </tr>\n    <tr>\n      <th>C</th>\n      <td>0.807706</td>\n      <td>0.072960</td>\n      <td>0.638787</td>\n      <td>0.329646</td>\n      <td>1.446493</td>\n    </tr>\n    <tr>\n      <th>D</th>\n      <td>-0.497104</td>\n      <td>-0.754070</td>\n      <td>-0.943406</td>\n      <td>0.484752</td>\n      <td>-1.440510</td>\n    </tr>\n    <tr>\n      <th>E</th>\n      <td>-0.116773</td>\n      <td>1.901755</td>\n      <td>0.238127</td>\n      <td>1.996652</td>\n      <td>0.121354</td>\n    </tr>\n  </tbody>\n</table>\n</div>",
            "text/plain": "          W         X         Y         Z       new\nA  0.302665  1.693723 -1.706086 -1.159119 -1.403420\nB -0.134841  0.390528  0.166905  0.184502  0.032064\nC  0.807706  0.072960  0.638787  0.329646  1.446493\nD -0.497104 -0.754070 -0.943406  0.484752 -1.440510\nE -0.116773  1.901755  0.238127  1.996652  0.121354"
          },
          "execution_count": 16,
          "metadata": {},
          "output_type": "execute_result"
        }
      ]
    },
    {
      "metadata": {
        "trusted": false
      },
      "cell_type": "code",
      "source": "df.drop('new',axis=1,inplace=True)",
      "execution_count": 17,
      "outputs": []
    },
    {
      "metadata": {
        "trusted": false
      },
      "cell_type": "code",
      "source": "df",
      "execution_count": 18,
      "outputs": [
        {
          "data": {
            "text/html": "<div>\n<style scoped>\n    .dataframe tbody tr th:only-of-type {\n        vertical-align: middle;\n    }\n\n    .dataframe tbody tr th {\n        vertical-align: top;\n    }\n\n    .dataframe thead th {\n        text-align: right;\n    }\n</style>\n<table border=\"1\" class=\"dataframe\">\n  <thead>\n    <tr style=\"text-align: right;\">\n      <th></th>\n      <th>W</th>\n      <th>X</th>\n      <th>Y</th>\n      <th>Z</th>\n    </tr>\n  </thead>\n  <tbody>\n    <tr>\n      <th>A</th>\n      <td>0.302665</td>\n      <td>1.693723</td>\n      <td>-1.706086</td>\n      <td>-1.159119</td>\n    </tr>\n    <tr>\n      <th>B</th>\n      <td>-0.134841</td>\n      <td>0.390528</td>\n      <td>0.166905</td>\n      <td>0.184502</td>\n    </tr>\n    <tr>\n      <th>C</th>\n      <td>0.807706</td>\n      <td>0.072960</td>\n      <td>0.638787</td>\n      <td>0.329646</td>\n    </tr>\n    <tr>\n      <th>D</th>\n      <td>-0.497104</td>\n      <td>-0.754070</td>\n      <td>-0.943406</td>\n      <td>0.484752</td>\n    </tr>\n    <tr>\n      <th>E</th>\n      <td>-0.116773</td>\n      <td>1.901755</td>\n      <td>0.238127</td>\n      <td>1.996652</td>\n    </tr>\n  </tbody>\n</table>\n</div>",
            "text/plain": "          W         X         Y         Z\nA  0.302665  1.693723 -1.706086 -1.159119\nB -0.134841  0.390528  0.166905  0.184502\nC  0.807706  0.072960  0.638787  0.329646\nD -0.497104 -0.754070 -0.943406  0.484752\nE -0.116773  1.901755  0.238127  1.996652"
          },
          "execution_count": 18,
          "metadata": {},
          "output_type": "execute_result"
        }
      ]
    },
    {
      "metadata": {},
      "cell_type": "markdown",
      "source": "Can also drop rows this way:"
    },
    {
      "metadata": {
        "trusted": false
      },
      "cell_type": "code",
      "source": "df.drop('E',axis=0)",
      "execution_count": 19,
      "outputs": [
        {
          "data": {
            "text/html": "<div>\n<style scoped>\n    .dataframe tbody tr th:only-of-type {\n        vertical-align: middle;\n    }\n\n    .dataframe tbody tr th {\n        vertical-align: top;\n    }\n\n    .dataframe thead th {\n        text-align: right;\n    }\n</style>\n<table border=\"1\" class=\"dataframe\">\n  <thead>\n    <tr style=\"text-align: right;\">\n      <th></th>\n      <th>W</th>\n      <th>X</th>\n      <th>Y</th>\n      <th>Z</th>\n    </tr>\n  </thead>\n  <tbody>\n    <tr>\n      <th>A</th>\n      <td>0.302665</td>\n      <td>1.693723</td>\n      <td>-1.706086</td>\n      <td>-1.159119</td>\n    </tr>\n    <tr>\n      <th>B</th>\n      <td>-0.134841</td>\n      <td>0.390528</td>\n      <td>0.166905</td>\n      <td>0.184502</td>\n    </tr>\n    <tr>\n      <th>C</th>\n      <td>0.807706</td>\n      <td>0.072960</td>\n      <td>0.638787</td>\n      <td>0.329646</td>\n    </tr>\n    <tr>\n      <th>D</th>\n      <td>-0.497104</td>\n      <td>-0.754070</td>\n      <td>-0.943406</td>\n      <td>0.484752</td>\n    </tr>\n  </tbody>\n</table>\n</div>",
            "text/plain": "          W         X         Y         Z\nA  0.302665  1.693723 -1.706086 -1.159119\nB -0.134841  0.390528  0.166905  0.184502\nC  0.807706  0.072960  0.638787  0.329646\nD -0.497104 -0.754070 -0.943406  0.484752"
          },
          "execution_count": 19,
          "metadata": {},
          "output_type": "execute_result"
        }
      ]
    },
    {
      "metadata": {},
      "cell_type": "markdown",
      "source": "**Selecting Rows**"
    },
    {
      "metadata": {
        "trusted": false
      },
      "cell_type": "code",
      "source": "df.loc['A']",
      "execution_count": 20,
      "outputs": [
        {
          "data": {
            "text/plain": "W    0.302665\nX    1.693723\nY   -1.706086\nZ   -1.159119\nName: A, dtype: float64"
          },
          "execution_count": 20,
          "metadata": {},
          "output_type": "execute_result"
        }
      ]
    },
    {
      "metadata": {},
      "cell_type": "markdown",
      "source": "Or select based off of position instead of label "
    },
    {
      "metadata": {
        "trusted": false
      },
      "cell_type": "code",
      "source": "df.iloc[0]",
      "execution_count": 21,
      "outputs": [
        {
          "data": {
            "text/plain": "W    0.302665\nX    1.693723\nY   -1.706086\nZ   -1.159119\nName: A, dtype: float64"
          },
          "execution_count": 21,
          "metadata": {},
          "output_type": "execute_result"
        }
      ]
    },
    {
      "metadata": {},
      "cell_type": "markdown",
      "source": "**Selecting subset of rows and columns**"
    },
    {
      "metadata": {
        "trusted": false
      },
      "cell_type": "code",
      "source": "df.loc['B','Y']",
      "execution_count": 22,
      "outputs": [
        {
          "data": {
            "text/plain": "0.16690463609281317"
          },
          "execution_count": 22,
          "metadata": {},
          "output_type": "execute_result"
        }
      ]
    },
    {
      "metadata": {
        "trusted": false
      },
      "cell_type": "code",
      "source": "df.loc[['A','B'],['W','Y']]",
      "execution_count": 23,
      "outputs": [
        {
          "data": {
            "text/html": "<div>\n<style scoped>\n    .dataframe tbody tr th:only-of-type {\n        vertical-align: middle;\n    }\n\n    .dataframe tbody tr th {\n        vertical-align: top;\n    }\n\n    .dataframe thead th {\n        text-align: right;\n    }\n</style>\n<table border=\"1\" class=\"dataframe\">\n  <thead>\n    <tr style=\"text-align: right;\">\n      <th></th>\n      <th>W</th>\n      <th>Y</th>\n    </tr>\n  </thead>\n  <tbody>\n    <tr>\n      <th>A</th>\n      <td>0.302665</td>\n      <td>-1.706086</td>\n    </tr>\n    <tr>\n      <th>B</th>\n      <td>-0.134841</td>\n      <td>0.166905</td>\n    </tr>\n  </tbody>\n</table>\n</div>",
            "text/plain": "          W         Y\nA  0.302665 -1.706086\nB -0.134841  0.166905"
          },
          "execution_count": 23,
          "metadata": {},
          "output_type": "execute_result"
        }
      ]
    },
    {
      "metadata": {
        "trusted": false
      },
      "cell_type": "code",
      "source": "df.iloc[[0,1],[0,2]]",
      "execution_count": 24,
      "outputs": [
        {
          "data": {
            "text/html": "<div>\n<style scoped>\n    .dataframe tbody tr th:only-of-type {\n        vertical-align: middle;\n    }\n\n    .dataframe tbody tr th {\n        vertical-align: top;\n    }\n\n    .dataframe thead th {\n        text-align: right;\n    }\n</style>\n<table border=\"1\" class=\"dataframe\">\n  <thead>\n    <tr style=\"text-align: right;\">\n      <th></th>\n      <th>W</th>\n      <th>Y</th>\n    </tr>\n  </thead>\n  <tbody>\n    <tr>\n      <th>A</th>\n      <td>0.302665</td>\n      <td>-1.706086</td>\n    </tr>\n    <tr>\n      <th>B</th>\n      <td>-0.134841</td>\n      <td>0.166905</td>\n    </tr>\n  </tbody>\n</table>\n</div>",
            "text/plain": "          W         Y\nA  0.302665 -1.706086\nB -0.134841  0.166905"
          },
          "execution_count": 24,
          "metadata": {},
          "output_type": "execute_result"
        }
      ]
    },
    {
      "metadata": {},
      "cell_type": "markdown",
      "source": "### Conditional Selection\n\nAn important feature of pandas is conditional selection using bracket notation, very similar to numpy:"
    },
    {
      "metadata": {
        "trusted": false
      },
      "cell_type": "code",
      "source": "df",
      "execution_count": 25,
      "outputs": [
        {
          "data": {
            "text/html": "<div>\n<style scoped>\n    .dataframe tbody tr th:only-of-type {\n        vertical-align: middle;\n    }\n\n    .dataframe tbody tr th {\n        vertical-align: top;\n    }\n\n    .dataframe thead th {\n        text-align: right;\n    }\n</style>\n<table border=\"1\" class=\"dataframe\">\n  <thead>\n    <tr style=\"text-align: right;\">\n      <th></th>\n      <th>W</th>\n      <th>X</th>\n      <th>Y</th>\n      <th>Z</th>\n    </tr>\n  </thead>\n  <tbody>\n    <tr>\n      <th>A</th>\n      <td>0.302665</td>\n      <td>1.693723</td>\n      <td>-1.706086</td>\n      <td>-1.159119</td>\n    </tr>\n    <tr>\n      <th>B</th>\n      <td>-0.134841</td>\n      <td>0.390528</td>\n      <td>0.166905</td>\n      <td>0.184502</td>\n    </tr>\n    <tr>\n      <th>C</th>\n      <td>0.807706</td>\n      <td>0.072960</td>\n      <td>0.638787</td>\n      <td>0.329646</td>\n    </tr>\n    <tr>\n      <th>D</th>\n      <td>-0.497104</td>\n      <td>-0.754070</td>\n      <td>-0.943406</td>\n      <td>0.484752</td>\n    </tr>\n    <tr>\n      <th>E</th>\n      <td>-0.116773</td>\n      <td>1.901755</td>\n      <td>0.238127</td>\n      <td>1.996652</td>\n    </tr>\n  </tbody>\n</table>\n</div>",
            "text/plain": "          W         X         Y         Z\nA  0.302665  1.693723 -1.706086 -1.159119\nB -0.134841  0.390528  0.166905  0.184502\nC  0.807706  0.072960  0.638787  0.329646\nD -0.497104 -0.754070 -0.943406  0.484752\nE -0.116773  1.901755  0.238127  1.996652"
          },
          "execution_count": 25,
          "metadata": {},
          "output_type": "execute_result"
        }
      ]
    },
    {
      "metadata": {
        "trusted": false
      },
      "cell_type": "code",
      "source": "df>0",
      "execution_count": 26,
      "outputs": [
        {
          "data": {
            "text/html": "<div>\n<style scoped>\n    .dataframe tbody tr th:only-of-type {\n        vertical-align: middle;\n    }\n\n    .dataframe tbody tr th {\n        vertical-align: top;\n    }\n\n    .dataframe thead th {\n        text-align: right;\n    }\n</style>\n<table border=\"1\" class=\"dataframe\">\n  <thead>\n    <tr style=\"text-align: right;\">\n      <th></th>\n      <th>W</th>\n      <th>X</th>\n      <th>Y</th>\n      <th>Z</th>\n    </tr>\n  </thead>\n  <tbody>\n    <tr>\n      <th>A</th>\n      <td>True</td>\n      <td>True</td>\n      <td>False</td>\n      <td>False</td>\n    </tr>\n    <tr>\n      <th>B</th>\n      <td>False</td>\n      <td>True</td>\n      <td>True</td>\n      <td>True</td>\n    </tr>\n    <tr>\n      <th>C</th>\n      <td>True</td>\n      <td>True</td>\n      <td>True</td>\n      <td>True</td>\n    </tr>\n    <tr>\n      <th>D</th>\n      <td>False</td>\n      <td>False</td>\n      <td>False</td>\n      <td>True</td>\n    </tr>\n    <tr>\n      <th>E</th>\n      <td>False</td>\n      <td>True</td>\n      <td>True</td>\n      <td>True</td>\n    </tr>\n  </tbody>\n</table>\n</div>",
            "text/plain": "       W      X      Y      Z\nA   True   True  False  False\nB  False   True   True   True\nC   True   True   True   True\nD  False  False  False   True\nE  False   True   True   True"
          },
          "execution_count": 26,
          "metadata": {},
          "output_type": "execute_result"
        }
      ]
    },
    {
      "metadata": {
        "trusted": false
      },
      "cell_type": "code",
      "source": "df[df>0]",
      "execution_count": 27,
      "outputs": [
        {
          "data": {
            "text/html": "<div>\n<style scoped>\n    .dataframe tbody tr th:only-of-type {\n        vertical-align: middle;\n    }\n\n    .dataframe tbody tr th {\n        vertical-align: top;\n    }\n\n    .dataframe thead th {\n        text-align: right;\n    }\n</style>\n<table border=\"1\" class=\"dataframe\">\n  <thead>\n    <tr style=\"text-align: right;\">\n      <th></th>\n      <th>W</th>\n      <th>X</th>\n      <th>Y</th>\n      <th>Z</th>\n    </tr>\n  </thead>\n  <tbody>\n    <tr>\n      <th>A</th>\n      <td>0.302665</td>\n      <td>1.693723</td>\n      <td>NaN</td>\n      <td>NaN</td>\n    </tr>\n    <tr>\n      <th>B</th>\n      <td>NaN</td>\n      <td>0.390528</td>\n      <td>0.166905</td>\n      <td>0.184502</td>\n    </tr>\n    <tr>\n      <th>C</th>\n      <td>0.807706</td>\n      <td>0.072960</td>\n      <td>0.638787</td>\n      <td>0.329646</td>\n    </tr>\n    <tr>\n      <th>D</th>\n      <td>NaN</td>\n      <td>NaN</td>\n      <td>NaN</td>\n      <td>0.484752</td>\n    </tr>\n    <tr>\n      <th>E</th>\n      <td>NaN</td>\n      <td>1.901755</td>\n      <td>0.238127</td>\n      <td>1.996652</td>\n    </tr>\n  </tbody>\n</table>\n</div>",
            "text/plain": "          W         X         Y         Z\nA  0.302665  1.693723       NaN       NaN\nB       NaN  0.390528  0.166905  0.184502\nC  0.807706  0.072960  0.638787  0.329646\nD       NaN       NaN       NaN  0.484752\nE       NaN  1.901755  0.238127  1.996652"
          },
          "execution_count": 27,
          "metadata": {},
          "output_type": "execute_result"
        }
      ]
    },
    {
      "metadata": {
        "trusted": false
      },
      "cell_type": "code",
      "source": "df[df['W']>0]",
      "execution_count": 28,
      "outputs": [
        {
          "data": {
            "text/html": "<div>\n<style scoped>\n    .dataframe tbody tr th:only-of-type {\n        vertical-align: middle;\n    }\n\n    .dataframe tbody tr th {\n        vertical-align: top;\n    }\n\n    .dataframe thead th {\n        text-align: right;\n    }\n</style>\n<table border=\"1\" class=\"dataframe\">\n  <thead>\n    <tr style=\"text-align: right;\">\n      <th></th>\n      <th>W</th>\n      <th>X</th>\n      <th>Y</th>\n      <th>Z</th>\n    </tr>\n  </thead>\n  <tbody>\n    <tr>\n      <th>A</th>\n      <td>0.302665</td>\n      <td>1.693723</td>\n      <td>-1.706086</td>\n      <td>-1.159119</td>\n    </tr>\n    <tr>\n      <th>C</th>\n      <td>0.807706</td>\n      <td>0.072960</td>\n      <td>0.638787</td>\n      <td>0.329646</td>\n    </tr>\n  </tbody>\n</table>\n</div>",
            "text/plain": "          W         X         Y         Z\nA  0.302665  1.693723 -1.706086 -1.159119\nC  0.807706  0.072960  0.638787  0.329646"
          },
          "execution_count": 28,
          "metadata": {},
          "output_type": "execute_result"
        }
      ]
    },
    {
      "metadata": {
        "trusted": false
      },
      "cell_type": "code",
      "source": "df[df['W']>0]['Y']",
      "execution_count": 31,
      "outputs": [
        {
          "data": {
            "text/plain": "A   -1.706086\nC    0.638787\nName: Y, dtype: float64"
          },
          "execution_count": 31,
          "metadata": {},
          "output_type": "execute_result"
        }
      ]
    },
    {
      "metadata": {
        "trusted": false
      },
      "cell_type": "code",
      "source": "df[df['W']>0][['Y','X']]",
      "execution_count": 32,
      "outputs": [
        {
          "data": {
            "text/html": "<div>\n<style scoped>\n    .dataframe tbody tr th:only-of-type {\n        vertical-align: middle;\n    }\n\n    .dataframe tbody tr th {\n        vertical-align: top;\n    }\n\n    .dataframe thead th {\n        text-align: right;\n    }\n</style>\n<table border=\"1\" class=\"dataframe\">\n  <thead>\n    <tr style=\"text-align: right;\">\n      <th></th>\n      <th>Y</th>\n      <th>X</th>\n    </tr>\n  </thead>\n  <tbody>\n    <tr>\n      <th>A</th>\n      <td>-1.706086</td>\n      <td>1.693723</td>\n    </tr>\n    <tr>\n      <th>C</th>\n      <td>0.638787</td>\n      <td>0.072960</td>\n    </tr>\n  </tbody>\n</table>\n</div>",
            "text/plain": "          Y         X\nA -1.706086  1.693723\nC  0.638787  0.072960"
          },
          "execution_count": 32,
          "metadata": {},
          "output_type": "execute_result"
        }
      ]
    },
    {
      "metadata": {},
      "cell_type": "markdown",
      "source": "For two conditions you can use | and & with parenthesis:"
    },
    {
      "metadata": {
        "trusted": false
      },
      "cell_type": "code",
      "source": "df[(df['W']>0) & (df['Y'] > 0)]",
      "execution_count": 34,
      "outputs": [
        {
          "data": {
            "text/html": "<div>\n<style scoped>\n    .dataframe tbody tr th:only-of-type {\n        vertical-align: middle;\n    }\n\n    .dataframe tbody tr th {\n        vertical-align: top;\n    }\n\n    .dataframe thead th {\n        text-align: right;\n    }\n</style>\n<table border=\"1\" class=\"dataframe\">\n  <thead>\n    <tr style=\"text-align: right;\">\n      <th></th>\n      <th>W</th>\n      <th>X</th>\n      <th>Y</th>\n      <th>Z</th>\n    </tr>\n  </thead>\n  <tbody>\n    <tr>\n      <th>C</th>\n      <td>0.807706</td>\n      <td>0.07296</td>\n      <td>0.638787</td>\n      <td>0.329646</td>\n    </tr>\n  </tbody>\n</table>\n</div>",
            "text/plain": "          W        X         Y         Z\nC  0.807706  0.07296  0.638787  0.329646"
          },
          "execution_count": 34,
          "metadata": {},
          "output_type": "execute_result"
        }
      ]
    },
    {
      "metadata": {},
      "cell_type": "markdown",
      "source": "## More Index Details\n\nLet's discuss some more features of indexing, including resetting the index or setting it something else. We'll also talk about index hierarchy!"
    },
    {
      "metadata": {
        "trusted": false
      },
      "cell_type": "code",
      "source": "df",
      "execution_count": 35,
      "outputs": [
        {
          "data": {
            "text/html": "<div>\n<style scoped>\n    .dataframe tbody tr th:only-of-type {\n        vertical-align: middle;\n    }\n\n    .dataframe tbody tr th {\n        vertical-align: top;\n    }\n\n    .dataframe thead th {\n        text-align: right;\n    }\n</style>\n<table border=\"1\" class=\"dataframe\">\n  <thead>\n    <tr style=\"text-align: right;\">\n      <th></th>\n      <th>W</th>\n      <th>X</th>\n      <th>Y</th>\n      <th>Z</th>\n    </tr>\n  </thead>\n  <tbody>\n    <tr>\n      <th>A</th>\n      <td>0.302665</td>\n      <td>1.693723</td>\n      <td>-1.706086</td>\n      <td>-1.159119</td>\n    </tr>\n    <tr>\n      <th>B</th>\n      <td>-0.134841</td>\n      <td>0.390528</td>\n      <td>0.166905</td>\n      <td>0.184502</td>\n    </tr>\n    <tr>\n      <th>C</th>\n      <td>0.807706</td>\n      <td>0.072960</td>\n      <td>0.638787</td>\n      <td>0.329646</td>\n    </tr>\n    <tr>\n      <th>D</th>\n      <td>-0.497104</td>\n      <td>-0.754070</td>\n      <td>-0.943406</td>\n      <td>0.484752</td>\n    </tr>\n    <tr>\n      <th>E</th>\n      <td>-0.116773</td>\n      <td>1.901755</td>\n      <td>0.238127</td>\n      <td>1.996652</td>\n    </tr>\n  </tbody>\n</table>\n</div>",
            "text/plain": "          W         X         Y         Z\nA  0.302665  1.693723 -1.706086 -1.159119\nB -0.134841  0.390528  0.166905  0.184502\nC  0.807706  0.072960  0.638787  0.329646\nD -0.497104 -0.754070 -0.943406  0.484752\nE -0.116773  1.901755  0.238127  1.996652"
          },
          "execution_count": 35,
          "metadata": {},
          "output_type": "execute_result"
        }
      ]
    },
    {
      "metadata": {
        "trusted": false
      },
      "cell_type": "code",
      "source": "# Reset to default 0,1...n index\ndf.reset_index()",
      "execution_count": 36,
      "outputs": [
        {
          "data": {
            "text/html": "<div>\n<style scoped>\n    .dataframe tbody tr th:only-of-type {\n        vertical-align: middle;\n    }\n\n    .dataframe tbody tr th {\n        vertical-align: top;\n    }\n\n    .dataframe thead th {\n        text-align: right;\n    }\n</style>\n<table border=\"1\" class=\"dataframe\">\n  <thead>\n    <tr style=\"text-align: right;\">\n      <th></th>\n      <th>index</th>\n      <th>W</th>\n      <th>X</th>\n      <th>Y</th>\n      <th>Z</th>\n    </tr>\n  </thead>\n  <tbody>\n    <tr>\n      <th>0</th>\n      <td>A</td>\n      <td>0.302665</td>\n      <td>1.693723</td>\n      <td>-1.706086</td>\n      <td>-1.159119</td>\n    </tr>\n    <tr>\n      <th>1</th>\n      <td>B</td>\n      <td>-0.134841</td>\n      <td>0.390528</td>\n      <td>0.166905</td>\n      <td>0.184502</td>\n    </tr>\n    <tr>\n      <th>2</th>\n      <td>C</td>\n      <td>0.807706</td>\n      <td>0.072960</td>\n      <td>0.638787</td>\n      <td>0.329646</td>\n    </tr>\n    <tr>\n      <th>3</th>\n      <td>D</td>\n      <td>-0.497104</td>\n      <td>-0.754070</td>\n      <td>-0.943406</td>\n      <td>0.484752</td>\n    </tr>\n    <tr>\n      <th>4</th>\n      <td>E</td>\n      <td>-0.116773</td>\n      <td>1.901755</td>\n      <td>0.238127</td>\n      <td>1.996652</td>\n    </tr>\n  </tbody>\n</table>\n</div>",
            "text/plain": "  index         W         X         Y         Z\n0     A  0.302665  1.693723 -1.706086 -1.159119\n1     B -0.134841  0.390528  0.166905  0.184502\n2     C  0.807706  0.072960  0.638787  0.329646\n3     D -0.497104 -0.754070 -0.943406  0.484752\n4     E -0.116773  1.901755  0.238127  1.996652"
          },
          "execution_count": 36,
          "metadata": {},
          "output_type": "execute_result"
        }
      ]
    },
    {
      "metadata": {
        "trusted": false
      },
      "cell_type": "code",
      "source": "newind = 'CA NY WY OR CO'.split()",
      "execution_count": 37,
      "outputs": []
    },
    {
      "metadata": {
        "trusted": false
      },
      "cell_type": "code",
      "source": "df['States'] = newind",
      "execution_count": 38,
      "outputs": []
    },
    {
      "metadata": {
        "trusted": false
      },
      "cell_type": "code",
      "source": "df",
      "execution_count": 39,
      "outputs": [
        {
          "data": {
            "text/html": "<div>\n<style scoped>\n    .dataframe tbody tr th:only-of-type {\n        vertical-align: middle;\n    }\n\n    .dataframe tbody tr th {\n        vertical-align: top;\n    }\n\n    .dataframe thead th {\n        text-align: right;\n    }\n</style>\n<table border=\"1\" class=\"dataframe\">\n  <thead>\n    <tr style=\"text-align: right;\">\n      <th></th>\n      <th>W</th>\n      <th>X</th>\n      <th>Y</th>\n      <th>Z</th>\n      <th>States</th>\n    </tr>\n  </thead>\n  <tbody>\n    <tr>\n      <th>A</th>\n      <td>0.302665</td>\n      <td>1.693723</td>\n      <td>-1.706086</td>\n      <td>-1.159119</td>\n      <td>CA</td>\n    </tr>\n    <tr>\n      <th>B</th>\n      <td>-0.134841</td>\n      <td>0.390528</td>\n      <td>0.166905</td>\n      <td>0.184502</td>\n      <td>NY</td>\n    </tr>\n    <tr>\n      <th>C</th>\n      <td>0.807706</td>\n      <td>0.072960</td>\n      <td>0.638787</td>\n      <td>0.329646</td>\n      <td>WY</td>\n    </tr>\n    <tr>\n      <th>D</th>\n      <td>-0.497104</td>\n      <td>-0.754070</td>\n      <td>-0.943406</td>\n      <td>0.484752</td>\n      <td>OR</td>\n    </tr>\n    <tr>\n      <th>E</th>\n      <td>-0.116773</td>\n      <td>1.901755</td>\n      <td>0.238127</td>\n      <td>1.996652</td>\n      <td>CO</td>\n    </tr>\n  </tbody>\n</table>\n</div>",
            "text/plain": "          W         X         Y         Z States\nA  0.302665  1.693723 -1.706086 -1.159119     CA\nB -0.134841  0.390528  0.166905  0.184502     NY\nC  0.807706  0.072960  0.638787  0.329646     WY\nD -0.497104 -0.754070 -0.943406  0.484752     OR\nE -0.116773  1.901755  0.238127  1.996652     CO"
          },
          "execution_count": 39,
          "metadata": {},
          "output_type": "execute_result"
        }
      ]
    },
    {
      "metadata": {
        "trusted": false
      },
      "cell_type": "code",
      "source": "df.set_index('States')",
      "execution_count": 40,
      "outputs": [
        {
          "data": {
            "text/html": "<div>\n<style scoped>\n    .dataframe tbody tr th:only-of-type {\n        vertical-align: middle;\n    }\n\n    .dataframe tbody tr th {\n        vertical-align: top;\n    }\n\n    .dataframe thead th {\n        text-align: right;\n    }\n</style>\n<table border=\"1\" class=\"dataframe\">\n  <thead>\n    <tr style=\"text-align: right;\">\n      <th></th>\n      <th>W</th>\n      <th>X</th>\n      <th>Y</th>\n      <th>Z</th>\n    </tr>\n    <tr>\n      <th>States</th>\n      <th></th>\n      <th></th>\n      <th></th>\n      <th></th>\n    </tr>\n  </thead>\n  <tbody>\n    <tr>\n      <th>CA</th>\n      <td>0.302665</td>\n      <td>1.693723</td>\n      <td>-1.706086</td>\n      <td>-1.159119</td>\n    </tr>\n    <tr>\n      <th>NY</th>\n      <td>-0.134841</td>\n      <td>0.390528</td>\n      <td>0.166905</td>\n      <td>0.184502</td>\n    </tr>\n    <tr>\n      <th>WY</th>\n      <td>0.807706</td>\n      <td>0.072960</td>\n      <td>0.638787</td>\n      <td>0.329646</td>\n    </tr>\n    <tr>\n      <th>OR</th>\n      <td>-0.497104</td>\n      <td>-0.754070</td>\n      <td>-0.943406</td>\n      <td>0.484752</td>\n    </tr>\n    <tr>\n      <th>CO</th>\n      <td>-0.116773</td>\n      <td>1.901755</td>\n      <td>0.238127</td>\n      <td>1.996652</td>\n    </tr>\n  </tbody>\n</table>\n</div>",
            "text/plain": "               W         X         Y         Z\nStates                                        \nCA      0.302665  1.693723 -1.706086 -1.159119\nNY     -0.134841  0.390528  0.166905  0.184502\nWY      0.807706  0.072960  0.638787  0.329646\nOR     -0.497104 -0.754070 -0.943406  0.484752\nCO     -0.116773  1.901755  0.238127  1.996652"
          },
          "execution_count": 40,
          "metadata": {},
          "output_type": "execute_result"
        }
      ]
    },
    {
      "metadata": {
        "trusted": false
      },
      "cell_type": "code",
      "source": "df",
      "execution_count": 41,
      "outputs": [
        {
          "data": {
            "text/html": "<div>\n<style scoped>\n    .dataframe tbody tr th:only-of-type {\n        vertical-align: middle;\n    }\n\n    .dataframe tbody tr th {\n        vertical-align: top;\n    }\n\n    .dataframe thead th {\n        text-align: right;\n    }\n</style>\n<table border=\"1\" class=\"dataframe\">\n  <thead>\n    <tr style=\"text-align: right;\">\n      <th></th>\n      <th>W</th>\n      <th>X</th>\n      <th>Y</th>\n      <th>Z</th>\n      <th>States</th>\n    </tr>\n  </thead>\n  <tbody>\n    <tr>\n      <th>A</th>\n      <td>0.302665</td>\n      <td>1.693723</td>\n      <td>-1.706086</td>\n      <td>-1.159119</td>\n      <td>CA</td>\n    </tr>\n    <tr>\n      <th>B</th>\n      <td>-0.134841</td>\n      <td>0.390528</td>\n      <td>0.166905</td>\n      <td>0.184502</td>\n      <td>NY</td>\n    </tr>\n    <tr>\n      <th>C</th>\n      <td>0.807706</td>\n      <td>0.072960</td>\n      <td>0.638787</td>\n      <td>0.329646</td>\n      <td>WY</td>\n    </tr>\n    <tr>\n      <th>D</th>\n      <td>-0.497104</td>\n      <td>-0.754070</td>\n      <td>-0.943406</td>\n      <td>0.484752</td>\n      <td>OR</td>\n    </tr>\n    <tr>\n      <th>E</th>\n      <td>-0.116773</td>\n      <td>1.901755</td>\n      <td>0.238127</td>\n      <td>1.996652</td>\n      <td>CO</td>\n    </tr>\n  </tbody>\n</table>\n</div>",
            "text/plain": "          W         X         Y         Z States\nA  0.302665  1.693723 -1.706086 -1.159119     CA\nB -0.134841  0.390528  0.166905  0.184502     NY\nC  0.807706  0.072960  0.638787  0.329646     WY\nD -0.497104 -0.754070 -0.943406  0.484752     OR\nE -0.116773  1.901755  0.238127  1.996652     CO"
          },
          "execution_count": 41,
          "metadata": {},
          "output_type": "execute_result"
        }
      ]
    },
    {
      "metadata": {
        "trusted": false
      },
      "cell_type": "code",
      "source": "df.set_index('States',inplace=True)",
      "execution_count": 42,
      "outputs": []
    },
    {
      "metadata": {
        "trusted": false
      },
      "cell_type": "code",
      "source": "df",
      "execution_count": 43,
      "outputs": [
        {
          "data": {
            "text/html": "<div>\n<style scoped>\n    .dataframe tbody tr th:only-of-type {\n        vertical-align: middle;\n    }\n\n    .dataframe tbody tr th {\n        vertical-align: top;\n    }\n\n    .dataframe thead th {\n        text-align: right;\n    }\n</style>\n<table border=\"1\" class=\"dataframe\">\n  <thead>\n    <tr style=\"text-align: right;\">\n      <th></th>\n      <th>W</th>\n      <th>X</th>\n      <th>Y</th>\n      <th>Z</th>\n    </tr>\n    <tr>\n      <th>States</th>\n      <th></th>\n      <th></th>\n      <th></th>\n      <th></th>\n    </tr>\n  </thead>\n  <tbody>\n    <tr>\n      <th>CA</th>\n      <td>0.302665</td>\n      <td>1.693723</td>\n      <td>-1.706086</td>\n      <td>-1.159119</td>\n    </tr>\n    <tr>\n      <th>NY</th>\n      <td>-0.134841</td>\n      <td>0.390528</td>\n      <td>0.166905</td>\n      <td>0.184502</td>\n    </tr>\n    <tr>\n      <th>WY</th>\n      <td>0.807706</td>\n      <td>0.072960</td>\n      <td>0.638787</td>\n      <td>0.329646</td>\n    </tr>\n    <tr>\n      <th>OR</th>\n      <td>-0.497104</td>\n      <td>-0.754070</td>\n      <td>-0.943406</td>\n      <td>0.484752</td>\n    </tr>\n    <tr>\n      <th>CO</th>\n      <td>-0.116773</td>\n      <td>1.901755</td>\n      <td>0.238127</td>\n      <td>1.996652</td>\n    </tr>\n  </tbody>\n</table>\n</div>",
            "text/plain": "               W         X         Y         Z\nStates                                        \nCA      0.302665  1.693723 -1.706086 -1.159119\nNY     -0.134841  0.390528  0.166905  0.184502\nWY      0.807706  0.072960  0.638787  0.329646\nOR     -0.497104 -0.754070 -0.943406  0.484752\nCO     -0.116773  1.901755  0.238127  1.996652"
          },
          "execution_count": 43,
          "metadata": {},
          "output_type": "execute_result"
        }
      ]
    },
    {
      "metadata": {},
      "cell_type": "markdown",
      "source": "## Multi-Index and Index Hierarchy\n\nLet us go over how to work with Multi-Index, first we'll create a quick example of what a Multi-Indexed DataFrame would look like:"
    },
    {
      "metadata": {
        "trusted": false
      },
      "cell_type": "code",
      "source": "# Index Levels\noutside = ['G1','G1','G1','G2','G2','G2']\ninside = [1,2,3,1,2,3]\nhier_index = list(zip(outside,inside))\nhier_index = pd.MultiIndex.from_tuples(hier_index)",
      "execution_count": 44,
      "outputs": []
    },
    {
      "metadata": {
        "trusted": false
      },
      "cell_type": "code",
      "source": "hier_index",
      "execution_count": 45,
      "outputs": [
        {
          "data": {
            "text/plain": "MultiIndex(levels=[['G1', 'G2'], [1, 2, 3]],\n           labels=[[0, 0, 0, 1, 1, 1], [0, 1, 2, 0, 1, 2]])"
          },
          "execution_count": 45,
          "metadata": {},
          "output_type": "execute_result"
        }
      ]
    },
    {
      "metadata": {
        "trusted": false
      },
      "cell_type": "code",
      "source": "df = pd.DataFrame(np.random.randn(6,2),index=hier_index,columns=['A','B'])\ndf",
      "execution_count": 46,
      "outputs": [
        {
          "data": {
            "text/html": "<div>\n<style scoped>\n    .dataframe tbody tr th:only-of-type {\n        vertical-align: middle;\n    }\n\n    .dataframe tbody tr th {\n        vertical-align: top;\n    }\n\n    .dataframe thead th {\n        text-align: right;\n    }\n</style>\n<table border=\"1\" class=\"dataframe\">\n  <thead>\n    <tr style=\"text-align: right;\">\n      <th></th>\n      <th></th>\n      <th>A</th>\n      <th>B</th>\n    </tr>\n  </thead>\n  <tbody>\n    <tr>\n      <th rowspan=\"3\" valign=\"top\">G1</th>\n      <th>1</th>\n      <td>-0.993263</td>\n      <td>0.196800</td>\n    </tr>\n    <tr>\n      <th>2</th>\n      <td>-1.136645</td>\n      <td>0.000366</td>\n    </tr>\n    <tr>\n      <th>3</th>\n      <td>1.025984</td>\n      <td>-0.156598</td>\n    </tr>\n    <tr>\n      <th rowspan=\"3\" valign=\"top\">G2</th>\n      <th>1</th>\n      <td>-0.031579</td>\n      <td>0.649826</td>\n    </tr>\n    <tr>\n      <th>2</th>\n      <td>2.154846</td>\n      <td>-0.610259</td>\n    </tr>\n    <tr>\n      <th>3</th>\n      <td>-0.755325</td>\n      <td>-0.346419</td>\n    </tr>\n  </tbody>\n</table>\n</div>",
            "text/plain": "             A         B\nG1 1 -0.993263  0.196800\n   2 -1.136645  0.000366\n   3  1.025984 -0.156598\nG2 1 -0.031579  0.649826\n   2  2.154846 -0.610259\n   3 -0.755325 -0.346419"
          },
          "execution_count": 46,
          "metadata": {},
          "output_type": "execute_result"
        }
      ]
    },
    {
      "metadata": {},
      "cell_type": "markdown",
      "source": "Now let's show how to index this! For index hierarchy we use df.loc[], if this was on the columns axis, you would just use normal bracket notation df[]. Calling one level of the index returns the sub-dataframe:"
    },
    {
      "metadata": {
        "trusted": false
      },
      "cell_type": "code",
      "source": "df.loc['G1']",
      "execution_count": 47,
      "outputs": [
        {
          "data": {
            "text/html": "<div>\n<style scoped>\n    .dataframe tbody tr th:only-of-type {\n        vertical-align: middle;\n    }\n\n    .dataframe tbody tr th {\n        vertical-align: top;\n    }\n\n    .dataframe thead th {\n        text-align: right;\n    }\n</style>\n<table border=\"1\" class=\"dataframe\">\n  <thead>\n    <tr style=\"text-align: right;\">\n      <th></th>\n      <th>A</th>\n      <th>B</th>\n    </tr>\n  </thead>\n  <tbody>\n    <tr>\n      <th>1</th>\n      <td>-0.993263</td>\n      <td>0.196800</td>\n    </tr>\n    <tr>\n      <th>2</th>\n      <td>-1.136645</td>\n      <td>0.000366</td>\n    </tr>\n    <tr>\n      <th>3</th>\n      <td>1.025984</td>\n      <td>-0.156598</td>\n    </tr>\n  </tbody>\n</table>\n</div>",
            "text/plain": "          A         B\n1 -0.993263  0.196800\n2 -1.136645  0.000366\n3  1.025984 -0.156598"
          },
          "execution_count": 47,
          "metadata": {},
          "output_type": "execute_result"
        }
      ]
    },
    {
      "metadata": {
        "trusted": false
      },
      "cell_type": "code",
      "source": "df.loc['G1'].loc[1]",
      "execution_count": 48,
      "outputs": [
        {
          "data": {
            "text/plain": "A   -0.993263\nB    0.196800\nName: 1, dtype: float64"
          },
          "execution_count": 48,
          "metadata": {},
          "output_type": "execute_result"
        }
      ]
    },
    {
      "metadata": {
        "trusted": false
      },
      "cell_type": "code",
      "source": "list(df.columns)",
      "execution_count": 54,
      "outputs": [
        {
          "data": {
            "text/plain": "['A', 'B']"
          },
          "execution_count": 54,
          "metadata": {},
          "output_type": "execute_result"
        }
      ]
    },
    {
      "metadata": {},
      "cell_type": "markdown",
      "source": "### Renaming columns"
    },
    {
      "metadata": {
        "trusted": false
      },
      "cell_type": "code",
      "source": "df.columns = ['New', \"old\"]",
      "execution_count": 60,
      "outputs": []
    },
    {
      "metadata": {
        "trusted": false
      },
      "cell_type": "code",
      "source": "df",
      "execution_count": 61,
      "outputs": [
        {
          "data": {
            "text/html": "<div>\n<style scoped>\n    .dataframe tbody tr th:only-of-type {\n        vertical-align: middle;\n    }\n\n    .dataframe tbody tr th {\n        vertical-align: top;\n    }\n\n    .dataframe thead th {\n        text-align: right;\n    }\n</style>\n<table border=\"1\" class=\"dataframe\">\n  <thead>\n    <tr style=\"text-align: right;\">\n      <th></th>\n      <th></th>\n      <th>New</th>\n      <th>old</th>\n    </tr>\n  </thead>\n  <tbody>\n    <tr>\n      <th rowspan=\"3\" valign=\"top\">G1</th>\n      <th>1</th>\n      <td>-0.993263</td>\n      <td>0.196800</td>\n    </tr>\n    <tr>\n      <th>2</th>\n      <td>-1.136645</td>\n      <td>0.000366</td>\n    </tr>\n    <tr>\n      <th>3</th>\n      <td>1.025984</td>\n      <td>-0.156598</td>\n    </tr>\n    <tr>\n      <th rowspan=\"3\" valign=\"top\">G2</th>\n      <th>1</th>\n      <td>-0.031579</td>\n      <td>0.649826</td>\n    </tr>\n    <tr>\n      <th>2</th>\n      <td>2.154846</td>\n      <td>-0.610259</td>\n    </tr>\n    <tr>\n      <th>3</th>\n      <td>-0.755325</td>\n      <td>-0.346419</td>\n    </tr>\n  </tbody>\n</table>\n</div>",
            "text/plain": "           New       old\nG1 1 -0.993263  0.196800\n   2 -1.136645  0.000366\n   3  1.025984 -0.156598\nG2 1 -0.031579  0.649826\n   2  2.154846 -0.610259\n   3 -0.755325 -0.346419"
          },
          "execution_count": 61,
          "metadata": {},
          "output_type": "execute_result"
        }
      ]
    },
    {
      "metadata": {
        "trusted": false
      },
      "cell_type": "code",
      "source": "df.index.names = ['Group','Num']",
      "execution_count": 62,
      "outputs": []
    },
    {
      "metadata": {
        "trusted": false
      },
      "cell_type": "code",
      "source": "df",
      "execution_count": 63,
      "outputs": [
        {
          "data": {
            "text/html": "<div>\n<style scoped>\n    .dataframe tbody tr th:only-of-type {\n        vertical-align: middle;\n    }\n\n    .dataframe tbody tr th {\n        vertical-align: top;\n    }\n\n    .dataframe thead th {\n        text-align: right;\n    }\n</style>\n<table border=\"1\" class=\"dataframe\">\n  <thead>\n    <tr style=\"text-align: right;\">\n      <th></th>\n      <th></th>\n      <th>New</th>\n      <th>old</th>\n    </tr>\n    <tr>\n      <th>Group</th>\n      <th>Num</th>\n      <th></th>\n      <th></th>\n    </tr>\n  </thead>\n  <tbody>\n    <tr>\n      <th rowspan=\"3\" valign=\"top\">G1</th>\n      <th>1</th>\n      <td>-0.993263</td>\n      <td>0.196800</td>\n    </tr>\n    <tr>\n      <th>2</th>\n      <td>-1.136645</td>\n      <td>0.000366</td>\n    </tr>\n    <tr>\n      <th>3</th>\n      <td>1.025984</td>\n      <td>-0.156598</td>\n    </tr>\n    <tr>\n      <th rowspan=\"3\" valign=\"top\">G2</th>\n      <th>1</th>\n      <td>-0.031579</td>\n      <td>0.649826</td>\n    </tr>\n    <tr>\n      <th>2</th>\n      <td>2.154846</td>\n      <td>-0.610259</td>\n    </tr>\n    <tr>\n      <th>3</th>\n      <td>-0.755325</td>\n      <td>-0.346419</td>\n    </tr>\n  </tbody>\n</table>\n</div>",
            "text/plain": "                New       old\nGroup Num                    \nG1    1   -0.993263  0.196800\n      2   -1.136645  0.000366\n      3    1.025984 -0.156598\nG2    1   -0.031579  0.649826\n      2    2.154846 -0.610259\n      3   -0.755325 -0.346419"
          },
          "execution_count": 63,
          "metadata": {},
          "output_type": "execute_result"
        }
      ]
    },
    {
      "metadata": {
        "trusted": false
      },
      "cell_type": "code",
      "source": "df.xs('G1')",
      "execution_count": 64,
      "outputs": [
        {
          "data": {
            "text/html": "<div>\n<style scoped>\n    .dataframe tbody tr th:only-of-type {\n        vertical-align: middle;\n    }\n\n    .dataframe tbody tr th {\n        vertical-align: top;\n    }\n\n    .dataframe thead th {\n        text-align: right;\n    }\n</style>\n<table border=\"1\" class=\"dataframe\">\n  <thead>\n    <tr style=\"text-align: right;\">\n      <th></th>\n      <th>New</th>\n      <th>old</th>\n    </tr>\n    <tr>\n      <th>Num</th>\n      <th></th>\n      <th></th>\n    </tr>\n  </thead>\n  <tbody>\n    <tr>\n      <th>1</th>\n      <td>-0.993263</td>\n      <td>0.196800</td>\n    </tr>\n    <tr>\n      <th>2</th>\n      <td>-1.136645</td>\n      <td>0.000366</td>\n    </tr>\n    <tr>\n      <th>3</th>\n      <td>1.025984</td>\n      <td>-0.156598</td>\n    </tr>\n  </tbody>\n</table>\n</div>",
            "text/plain": "          New       old\nNum                    \n1   -0.993263  0.196800\n2   -1.136645  0.000366\n3    1.025984 -0.156598"
          },
          "execution_count": 64,
          "metadata": {},
          "output_type": "execute_result"
        }
      ]
    },
    {
      "metadata": {
        "trusted": false
      },
      "cell_type": "code",
      "source": "df.xs(['G1',1])",
      "execution_count": 65,
      "outputs": [
        {
          "data": {
            "text/plain": "New   -0.993263\nold    0.196800\nName: (G1, 1), dtype: float64"
          },
          "execution_count": 65,
          "metadata": {},
          "output_type": "execute_result"
        }
      ]
    },
    {
      "metadata": {
        "trusted": false
      },
      "cell_type": "code",
      "source": "df.xs(1,level='Num')",
      "execution_count": 66,
      "outputs": [
        {
          "data": {
            "text/html": "<div>\n<style scoped>\n    .dataframe tbody tr th:only-of-type {\n        vertical-align: middle;\n    }\n\n    .dataframe tbody tr th {\n        vertical-align: top;\n    }\n\n    .dataframe thead th {\n        text-align: right;\n    }\n</style>\n<table border=\"1\" class=\"dataframe\">\n  <thead>\n    <tr style=\"text-align: right;\">\n      <th></th>\n      <th>New</th>\n      <th>old</th>\n    </tr>\n    <tr>\n      <th>Group</th>\n      <th></th>\n      <th></th>\n    </tr>\n  </thead>\n  <tbody>\n    <tr>\n      <th>G1</th>\n      <td>-0.993263</td>\n      <td>0.196800</td>\n    </tr>\n    <tr>\n      <th>G2</th>\n      <td>-0.031579</td>\n      <td>0.649826</td>\n    </tr>\n  </tbody>\n</table>\n</div>",
            "text/plain": "            New       old\nGroup                    \nG1    -0.993263  0.196800\nG2    -0.031579  0.649826"
          },
          "execution_count": 66,
          "metadata": {},
          "output_type": "execute_result"
        }
      ]
    }
  ],
  "metadata": {
    "kernelspec": {
      "name": "python3",
      "display_name": "Python 3",
      "language": "python"
    },
    "language_info": {
      "mimetype": "text/x-python",
      "nbconvert_exporter": "python",
      "name": "python",
      "pygments_lexer": "ipython3",
      "version": "3.5.4",
      "file_extension": ".py",
      "codemirror_mode": {
        "version": 3,
        "name": "ipython"
      }
    }
  },
  "nbformat": 4,
  "nbformat_minor": 1
}