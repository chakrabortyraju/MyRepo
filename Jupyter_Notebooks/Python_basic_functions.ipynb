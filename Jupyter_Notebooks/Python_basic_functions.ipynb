{
  "cells": [
    {
      "metadata": {
        "trusted": true
      },
      "cell_type": "code",
      "source": "# Execute Python Syntax\nprint(\"Hello, World!\")",
      "execution_count": 1,
      "outputs": [
        {
          "output_type": "stream",
          "text": "Hello, World!\n",
          "name": "stdout"
        }
      ]
    },
    {
      "metadata": {
        "trusted": true
      },
      "cell_type": "code",
      "source": "# Python Indentation\n# The number of spaces is up to you as a programmer, but it has to be at least one.\nif 5 > 2:\n  print(\"Five is greater than two!\")",
      "execution_count": 2,
      "outputs": [
        {
          "output_type": "stream",
          "text": "Five is greater than two!\n",
          "name": "stdout"
        }
      ]
    },
    {
      "metadata": {
        "trusted": true
      },
      "cell_type": "code",
      "source": "# Python Variables\n# In Python, variables are created when you assign a value to it.\n\nx = 4 # x is of type int\ny = \"Sally\" # y is of type str\nprint(x)\nprint(y)\n\n# Variable Names\n# A variable can have a short name (like x and y) or a more descriptive name (age, carname, total_volume). Rules for Python variables:\n# A variable name must start with a letter or the underscore character\n# A variable name cannot start with a number\n# A variable name can only contain alpha-numeric characters and underscores (A-z, 0-9, and _ )\n# Variable names are case-sensitive (age, Age and AGE are three different variables)",
      "execution_count": 9,
      "outputs": [
        {
          "output_type": "stream",
          "text": "4\nSally\n",
          "name": "stdout"
        }
      ]
    },
    {
      "metadata": {
        "trusted": true
      },
      "cell_type": "code",
      "source": "# Comments in Python.\n# Comments starts with a #, and Python will ignore them:\n\n#This is a comment.\nprint(\"Hello, World!\")\n",
      "execution_count": 8,
      "outputs": [
        {
          "output_type": "stream",
          "text": "Hello, World!\n",
          "name": "stdout"
        }
      ]
    },
    {
      "metadata": {
        "trusted": true
      },
      "cell_type": "code",
      "source": "# Built-in Data Types\n'''\nText Type:\tstr\nNumeric Types:\tint, float, complex\nSequence Types:\tlist, tuple, range\nMapping Type:\tdict\nSet Types:\tset, frozenset\nBoolean Type:\tbool\nBinary Types:\tbytes, bytearray, memoryview\n'''",
      "execution_count": null,
      "outputs": []
    },
    {
      "metadata": {
        "trusted": true
      },
      "cell_type": "code",
      "source": "# Getting the Data Type\n\nx = 5\nprint(type(x))",
      "execution_count": 10,
      "outputs": [
        {
          "output_type": "stream",
          "text": "<class 'int'>\n",
          "name": "stdout"
        }
      ]
    },
    {
      "metadata": {
        "trusted": true
      },
      "cell_type": "code",
      "source": "# Setting the Data Type\n# In Python, the data type is set when you assign a value to a variable:\n\n# STR\nx = \"Hello World\"\nprint(x , \"is of type\" , type(x))\n\n# INT\n\ny = 20\nprint(y , \"is of type\" , type(y))\n\n# Float\nz = 20.5\nprint(z , \"is of type\" , type(z))\n\n# Complex\nz = 1j\nprint(z , \"is of type\" , type(z))\n\n# List\nz = [\"apple\", \"banana\", \"cherry\"]\nprint(z , \"is of type\" , type(z))\n\n# Tuple\nx = (\"apple\", \"banana\", \"cherry\")\nprint(x , \"is of type\" , type(x))\n\n# Range\nx = range(6)\nprint(x , \"is of type\" , type(x))\n\n# Dictionary\nx = {\"name\" : \"John\", \"age\" : 36}\nprint(x , \"is of type\" , type(x))\n\n# SET\nx = {\"apple\", \"banana\", \"cherry\"}\nprint(x , \"is of type\" , type(x))\n\n# Frozen Set\nx = frozenset({\"apple\", \"banana\", \"cherry\"})\nprint(x , \"is of type\" , type(x))\n\n# Boolean\nx = True\nprint(x , \"is of type\" , type(x))",
      "execution_count": 20,
      "outputs": [
        {
          "output_type": "stream",
          "text": "Hello World is of type <class 'str'>\n20 is of type <class 'int'>\n20.5 is of type <class 'float'>\n1j is of type <class 'complex'>\n['apple', 'banana', 'cherry'] is of type <class 'list'>\n('apple', 'banana', 'cherry') is of type <class 'tuple'>\nrange(0, 6) is of type <class 'range'>\n{'name': 'John', 'age': 36} is of type <class 'dict'>\n{'cherry', 'apple', 'banana'} is of type <class 'set'>\nfrozenset({'cherry', 'apple', 'banana'}) is of type <class 'frozenset'>\nTrue is of type <class 'bool'>\n",
          "name": "stdout"
        }
      ]
    },
    {
      "metadata": {},
      "cell_type": "markdown",
      "source": "# Python Operators\n\nOperators are used to perform operations on variables and values.\nPython divides the operators in the following groups:\n\n- Arithmetic operators\n- Assignment operators\n- Comparison operators\n- Logical operators\n- Identity operators\n- Membership operators\n- Bitwise operators\n\n===============\n\nOperator\tExample\tSame As\n=\tx = 5\tx = 5\t\n+=\tx += 3\tx = x + 3\t\n-=\tx -= 3\tx = x - 3\t\n*=\tx *= 3\tx = x * 3\t\n/=\tx /= 3\tx = x / 3\t\n%=\tx %= 3\tx = x % 3\t\n//=\tx //= 3\tx = x // 3\t\n**=\tx **= 3\tx = x ** 3\t\n&=\tx &= 3\tx = x & 3\t\n|=\tx |= 3\tx = x | 3\t\n^=\tx ^= 3\tx = x ^ 3\t\n>> =\tx >>= 3\tx = x >> 3\t\n<< =\tx <<= 3\tx = x << 3\n\n\n## Python Logical Operators\n\nLogical operators are used to combine conditional statements:\n\nOperator\tDescription\tExample\nand \tReturns True if both statements are true\tx < 5 and  x < 10\nor\tReturns True if one of the statements is true\tx < 5 or x < 4\nnot\tReverse the result, returns False if the result is true\tnot(x < 5 and x < 10)\n\nPython Membership Operators\nMembership operators are used to test if a sequence is presented in an object:\n\nOperator\tDescription\tExample\nin \tReturns True if a sequence with the specified value is present in the object\tx in y\n\nnot in\tReturns True if a sequence with the specified value is not present in the object\tx not in y\n\nPython Bitwise Operators\nBitwise operators are used to compare (binary) numbers:\n\nOperator\tName\tDescription\n& \tAND\tSets each bit to 1 if both bits are 1\n|\tOR\tSets each bit to 1 if one of two bits is 1\n ^\tXOR\tSets each bit to 1 if only one of two bits is 1\n~ \tNOT\tInverts all the bits\n"
    },
    {
      "metadata": {},
      "cell_type": "markdown",
      "source": "# Python List\nPython Collections (Arrays)\nThere are four collection data types in the Python programming language:\n\nList is a collection which is ordered and changeable. Allows duplicate members.\nTuple is a collection which is ordered and unchangeable. Allows duplicate members.\nSet is a collection which is unordered and unindexed. No duplicate members.\nDictionary is a collection which is unordered, changeable and indexed. No duplicate members.\nWhen choosing a collection type, it is useful to understand the properties of that type.\nChoosing the right type for a particular data set could mean retention of meaning, and, it could mean an increase in efficiency or security.\n"
    },
    {
      "metadata": {
        "trusted": true
      },
      "cell_type": "code",
      "source": "\nthislist = [\"apple\", \"banana\", \"cherry\", \"orange\", \"kiwi\", \"melon\", \"mango\"]\nprint(thislist)\n\n# Access List Items\nprint(thislist[1]) # 1st item\nprint(thislist[-1]) # last item\nprint(thislist[2:5]) # Return the third, fourth, and fifth item\nprint(thislist[:4]) # This example returns the items from the beginning to \"orange\":\nprint(thislist[2:]) # This example returns the items from \"cherry\" and to the end\nthislist[1] = \"blackcurrant\" # Change the second item\nprint(thislist)",
      "execution_count": 27,
      "outputs": [
        {
          "output_type": "stream",
          "text": "['apple', 'banana', 'cherry', 'orange', 'kiwi', 'melon', 'mango']\nbanana\nmango\n['cherry', 'orange', 'kiwi']\n['apple', 'banana', 'cherry', 'orange']\n['cherry', 'orange', 'kiwi', 'melon', 'mango']\n['apple', 'blackcurrant', 'cherry', 'orange', 'kiwi', 'melon', 'mango']\n",
          "name": "stdout"
        }
      ]
    },
    {
      "metadata": {
        "trusted": true
      },
      "cell_type": "code",
      "source": "# Loop Through a List\nthislist = [\"apple\", \"banana\", \"cherry\"]\nfor x in thislist:\n  print(x)",
      "execution_count": 29,
      "outputs": [
        {
          "output_type": "stream",
          "text": "apple\nbanana\ncherry\n",
          "name": "stdout"
        }
      ]
    },
    {
      "metadata": {
        "trusted": true
      },
      "cell_type": "code",
      "source": "# Check if Item Exists\nthislist = [\"apple\", \"banana\", \"cherry\"]\nif \"apple\" in thislist:\n  print(\"Yes, 'apple' is in the fruits list\")",
      "execution_count": 30,
      "outputs": [
        {
          "output_type": "stream",
          "text": "Yes, 'apple' is in the fruits list\n",
          "name": "stdout"
        }
      ]
    },
    {
      "metadata": {
        "trusted": true
      },
      "cell_type": "code",
      "source": "# List Length\nthislist = [\"apple\", \"banana\", \"cherry\"]\nprint(len(thislist))",
      "execution_count": 31,
      "outputs": [
        {
          "output_type": "stream",
          "text": "3\n",
          "name": "stdout"
        }
      ]
    },
    {
      "metadata": {
        "trusted": true
      },
      "cell_type": "code",
      "source": "# Add Items\nthislist = [\"apple\", \"banana\", \"cherry\"]\nthislist.append(\"orange\")\nprint(thislist)\n\n# Insert an item as the second position:\nthislist = [\"apple\", \"banana\", \"cherry\"]\nthislist.insert(1, \"orange\")\nprint(thislist)\n\n# Remove Item\n# The remove() method removes the specified item:\nthislist = [\"apple\", \"banana\", \"cherry\"]\nthislist.remove(\"banana\")\nprint(thislist)\n\n# The pop() method removes the specified index, (or the last item if index is not specified):\nthislist = [\"apple\", \"banana\", \"cherry\"]\nthislist.remove(\"banana\")\nprint(thislist)\n\n# The del keyword can also delete the list completely:\n\nthislist = [\"apple\", \"banana\", \"cherry\"]\ndel thislist\nprint(thislist)\n\n",
      "execution_count": 38,
      "outputs": [
        {
          "output_type": "stream",
          "text": "['apple', 'banana', 'cherry', 'orange']\n['apple', 'orange', 'banana', 'cherry']\n['apple', 'cherry']\n['apple', 'cherry']\n",
          "name": "stdout"
        },
        {
          "output_type": "error",
          "ename": "NameError",
          "evalue": "name 'thislist' is not defined",
          "traceback": [
            "\u001b[0;31m---------------------------------------------------------------------------\u001b[0m",
            "\u001b[0;31mNameError\u001b[0m                                 Traceback (most recent call last)",
            "\u001b[0;32m<ipython-input-38-377ed9f6d3da>\u001b[0m in \u001b[0;36m<module>\u001b[0;34m\u001b[0m\n\u001b[1;32m     24\u001b[0m \u001b[0mthislist\u001b[0m \u001b[0;34m=\u001b[0m \u001b[0;34m[\u001b[0m\u001b[0;34m\"apple\"\u001b[0m\u001b[0;34m,\u001b[0m \u001b[0;34m\"banana\"\u001b[0m\u001b[0;34m,\u001b[0m \u001b[0;34m\"cherry\"\u001b[0m\u001b[0;34m]\u001b[0m\u001b[0;34m\u001b[0m\u001b[0m\n\u001b[1;32m     25\u001b[0m \u001b[0;32mdel\u001b[0m \u001b[0mthislist\u001b[0m\u001b[0;34m\u001b[0m\u001b[0m\n\u001b[0;32m---> 26\u001b[0;31m \u001b[0mprint\u001b[0m\u001b[0;34m(\u001b[0m\u001b[0mthislist\u001b[0m\u001b[0;34m)\u001b[0m\u001b[0;34m\u001b[0m\u001b[0m\n\u001b[0m\u001b[1;32m     27\u001b[0m \u001b[0;34m\u001b[0m\u001b[0m\n",
            "\u001b[0;31mNameError\u001b[0m: name 'thislist' is not defined"
          ]
        }
      ]
    },
    {
      "metadata": {
        "trusted": true
      },
      "cell_type": "code",
      "source": "# The clear() method empties the list:\n\nthislist = [\"apple\", \"banana\", \"cherry\"]\nthislist.clear()\nprint(thislist)\n\n# Copy a List\nthislist = [\"apple\", \"banana\", \"cherry\"]\nmylist = thislist.copy()\nprint(mylist)",
      "execution_count": 40,
      "outputs": [
        {
          "output_type": "stream",
          "text": "[]\n['apple', 'banana', 'cherry']\n",
          "name": "stdout"
        }
      ]
    },
    {
      "metadata": {
        "trusted": true
      },
      "cell_type": "code",
      "source": "# Join Two Lists\nlist1 = [\"a\", \"b\" , \"c\"]\nlist2 = [1, 2, 3]\n\nlist3 = list1 + list2\nprint(list3)\n\n####################\n\nlist1 = [\"a\", \"b\" , \"c\"]\nlist2 = [1, 2, 3]\n\nfor x in list2:\n  list1.append(x)\n\nprint(list1)\n\n###############\n\nlist1 = [\"a\", \"b\" , \"c\"]\nlist2 = [1, 2, 3]\n\nlist1.extend(list2)\nprint(list1)",
      "execution_count": 44,
      "outputs": [
        {
          "output_type": "stream",
          "text": "['a', 'b', 'c', 1, 2, 3]\n['a', 'b', 'c', 1, 2, 3]\n['a', 'b', 'c', 1, 2, 3]\n",
          "name": "stdout"
        }
      ]
    },
    {
      "metadata": {},
      "cell_type": "markdown",
      "source": "# Python Tuples"
    },
    {
      "metadata": {
        "trusted": true
      },
      "cell_type": "code",
      "source": "\n# A tuple is a collection which is ordered and unchangeable. In Python tuples are written with round brackets.\nthistuple = (\"apple\", \"banana\", \"cherry\")\nprint(thistuple)",
      "execution_count": 45,
      "outputs": [
        {
          "output_type": "stream",
          "text": "('apple', 'banana', 'cherry')\n",
          "name": "stdout"
        }
      ]
    },
    {
      "metadata": {
        "trusted": true
      },
      "cell_type": "code",
      "source": "# Access Tuple Items\n# You can access tuple items by referring to the index number, inside square brackets:\nthistuple = (\"apple\", \"banana\", \"cherry\", \"orange\", \"kiwi\", \"melon\", \"mango\")\nprint(thistuple[0]) # 1st item\nprint(thistuple[-1]) # last item\nprint(thistuple[2:5]) # Return the third, fourth, and fifth item\n",
      "execution_count": 50,
      "outputs": [
        {
          "output_type": "stream",
          "text": "apple\nmango\n('cherry', 'orange', 'kiwi')\n",
          "name": "stdout"
        }
      ]
    },
    {
      "metadata": {
        "trusted": true
      },
      "cell_type": "code",
      "source": "# Change Tuple Values\n# Once a tuple is created, you cannot change its values. Tuples are unchangeable, or immutable as it also is called.\n# Convert the tuple into a list to be able to change it:\n\nx = (\"apple\", \"banana\", \"cherry\")\ny = list(x)\ny[1] = \"kiwi\"\nx = tuple(y)\n\nprint(x)",
      "execution_count": 51,
      "outputs": [
        {
          "output_type": "stream",
          "text": "('apple', 'kiwi', 'cherry')\n",
          "name": "stdout"
        }
      ]
    },
    {
      "metadata": {},
      "cell_type": "markdown",
      "source": "# Python Sets"
    },
    {
      "metadata": {
        "trusted": true
      },
      "cell_type": "code",
      "source": "# Create a Set:\n\nthisset = {\"apple\", \"banana\", \"cherry\"}\nprint(thisset)",
      "execution_count": 53,
      "outputs": [
        {
          "output_type": "stream",
          "text": "{'cherry', 'apple', 'banana'}\n",
          "name": "stdout"
        }
      ]
    },
    {
      "metadata": {
        "trusted": true
      },
      "cell_type": "code",
      "source": "# Access Items\n# You cannot access items in a set by referring to an index, since sets are unordered the items has no index.\n# But you can loop through the set items using a for loop, or ask if a specified value is present in a set, by using the in keyword.",
      "execution_count": null,
      "outputs": []
    },
    {
      "metadata": {
        "trusted": true
      },
      "cell_type": "code",
      "source": "thisset = {\"apple\", \"banana\", \"cherry\"}\n\nfor x in thisset:\n  print(x)",
      "execution_count": 54,
      "outputs": [
        {
          "output_type": "stream",
          "text": "cherry\napple\nbanana\n",
          "name": "stdout"
        }
      ]
    },
    {
      "metadata": {
        "trusted": true
      },
      "cell_type": "code",
      "source": "# Check if \"banana\" is present in the set:\nthisset = {\"apple\", \"banana\", \"cherry\"}\n\nprint(\"banana\" in thisset)",
      "execution_count": 55,
      "outputs": [
        {
          "output_type": "stream",
          "text": "True\n",
          "name": "stdout"
        }
      ]
    },
    {
      "metadata": {
        "trusted": true
      },
      "cell_type": "code",
      "source": "# Change Items\n# Once a set is created, you cannot change its items, but you can add new items.\n# Add Items\n# To add one item to a set use the add() method.\n# To add more than one item to a set use the update() method.\n\nthisset = {\"apple\", \"banana\", \"cherry\"}\nthisset.add(\"orange\")\nprint(thisset)",
      "execution_count": 56,
      "outputs": [
        {
          "output_type": "stream",
          "text": "{'cherry', 'apple', 'banana', 'orange'}\n",
          "name": "stdout"
        }
      ]
    },
    {
      "metadata": {
        "trusted": true
      },
      "cell_type": "code",
      "source": "# Remove Item\n# To remove an item in a set, use the remove(), or the discard() method.\nthisset = {\"apple\", \"banana\", \"cherry\"}\nthisset.remove(\"banana\")\nprint(thisset)\n\n# Remove \"banana\" by using the discard() method:\nthisset = {\"apple\", \"banana\", \"cherry\"}\nthisset.discard(\"banana\")\nprint(thisset)\n\n# Remove the last item by using the pop() method:\n\nthisset = {\"apple\", \"banana\", \"cherry\"}\nx = thisset.pop()\nprint(x)\nprint(thisset)\n",
      "execution_count": 59,
      "outputs": [
        {
          "output_type": "stream",
          "text": "{'cherry', 'apple'}\n{'cherry', 'apple'}\ncherry\n{'apple', 'banana'}\n",
          "name": "stdout"
        }
      ]
    },
    {
      "metadata": {
        "trusted": true
      },
      "cell_type": "code",
      "source": "# The clear() method empties the set:\n\nthisset = {\"apple\", \"banana\", \"cherry\"}\nthisset.clear()\nprint(thisset)",
      "execution_count": 60,
      "outputs": [
        {
          "output_type": "stream",
          "text": "set()\n",
          "name": "stdout"
        }
      ]
    },
    {
      "metadata": {
        "trusted": true
      },
      "cell_type": "code",
      "source": "# The del keyword will delete the set completely:\n\nthisset = {\"apple\", \"banana\", \"cherry\"}\ndel thisset\nprint(thisset)",
      "execution_count": 61,
      "outputs": [
        {
          "output_type": "error",
          "ename": "NameError",
          "evalue": "name 'thisset' is not defined",
          "traceback": [
            "\u001b[0;31m---------------------------------------------------------------------------\u001b[0m",
            "\u001b[0;31mNameError\u001b[0m                                 Traceback (most recent call last)",
            "\u001b[0;32m<ipython-input-61-a80624893d06>\u001b[0m in \u001b[0;36m<module>\u001b[0;34m\u001b[0m\n\u001b[1;32m      3\u001b[0m \u001b[0mthisset\u001b[0m \u001b[0;34m=\u001b[0m \u001b[0;34m{\u001b[0m\u001b[0;34m\"apple\"\u001b[0m\u001b[0;34m,\u001b[0m \u001b[0;34m\"banana\"\u001b[0m\u001b[0;34m,\u001b[0m \u001b[0;34m\"cherry\"\u001b[0m\u001b[0;34m}\u001b[0m\u001b[0;34m\u001b[0m\u001b[0m\n\u001b[1;32m      4\u001b[0m \u001b[0;32mdel\u001b[0m \u001b[0mthisset\u001b[0m\u001b[0;34m\u001b[0m\u001b[0m\n\u001b[0;32m----> 5\u001b[0;31m \u001b[0mprint\u001b[0m\u001b[0;34m(\u001b[0m\u001b[0mthisset\u001b[0m\u001b[0;34m)\u001b[0m\u001b[0;34m\u001b[0m\u001b[0m\n\u001b[0m",
            "\u001b[0;31mNameError\u001b[0m: name 'thisset' is not defined"
          ]
        }
      ]
    },
    {
      "metadata": {
        "trusted": true
      },
      "cell_type": "code",
      "source": "# Join Two Sets\n#There are several ways to join two or more sets in Python.\n\n# You can use the union() method that returns a new set containing all items from both sets, or the update() method that\n# inserts all the items from one set into another.",
      "execution_count": null,
      "outputs": []
    },
    {
      "metadata": {
        "trusted": true
      },
      "cell_type": "code",
      "source": "# The union() method returns a new set with all items from both sets:\n\nset1 = {\"a\", \"b\" , \"c\"}\nset2 = {1, 2, 3}\n\nset3 = set1.union(set2)\nprint(set3)",
      "execution_count": 63,
      "outputs": [
        {
          "output_type": "stream",
          "text": "{'a', 1, 'c', 2, 3, 'b'}\n",
          "name": "stdout"
        }
      ]
    },
    {
      "metadata": {
        "trusted": true
      },
      "cell_type": "code",
      "source": "# The update() method inserts the items in set2 into set1:\n\nset1 = {\"a\", \"b\" , \"c\"}\nset2 = {1, 2, 3}\n\nset1.update(set2)\nprint(set1)",
      "execution_count": 64,
      "outputs": [
        {
          "output_type": "stream",
          "text": "{'a', 1, 'c', 2, 3, 'b'}\n",
          "name": "stdout"
        }
      ]
    },
    {
      "metadata": {
        "trusted": true
      },
      "cell_type": "code",
      "source": "# It is also possible to use the set() constructor to make a set.\n\nthisset = set((\"apple\", \"banana\", \"cherry\")) # note the double round-brackets\nprint(thisset)",
      "execution_count": 65,
      "outputs": [
        {
          "output_type": "stream",
          "text": "{'cherry', 'apple', 'banana'}\n",
          "name": "stdout"
        }
      ]
    },
    {
      "metadata": {},
      "cell_type": "markdown",
      "source": "# Python Dictionaries"
    },
    {
      "metadata": {
        "trusted": true
      },
      "cell_type": "code",
      "source": "# Create and print a dictionary:\n\nthisdict = {\n  \"brand\": \"Ford\",\n  \"model\": \"Mustang\",\n  \"year\": 1964\n}\nprint(thisdict)",
      "execution_count": 66,
      "outputs": [
        {
          "output_type": "stream",
          "text": "{'brand': 'Ford', 'model': 'Mustang', 'year': 1964}\n",
          "name": "stdout"
        }
      ]
    },
    {
      "metadata": {
        "trusted": true
      },
      "cell_type": "code",
      "source": "# Accessing Items\n#You can access the items of a dictionary by referring to its key name, inside square brackets:\n\nx = thisdict[\"model\"]\nprint(x)",
      "execution_count": 68,
      "outputs": [
        {
          "output_type": "stream",
          "text": "Mustang\n",
          "name": "stdout"
        }
      ]
    },
    {
      "metadata": {
        "trusted": true
      },
      "cell_type": "code",
      "source": "# Change Values\n# Change the \"year\" to 2018:\n\nthisdict = {\n  \"brand\": \"Ford\",\n  \"model\": \"Mustang\",\n  \"year\": 1964\n}\nthisdict[\"year\"] = 2018\n\nprint(thisdict)",
      "execution_count": 70,
      "outputs": [
        {
          "output_type": "stream",
          "text": "{'brand': 'Ford', 'model': 'Mustang', 'year': 2018}\n",
          "name": "stdout"
        }
      ]
    },
    {
      "metadata": {
        "trusted": true
      },
      "cell_type": "code",
      "source": "# Loop Through a Dictionary\nfor x in thisdict:\n  print(x)",
      "execution_count": 71,
      "outputs": [
        {
          "output_type": "stream",
          "text": "brand\nmodel\nyear\n",
          "name": "stdout"
        }
      ]
    },
    {
      "metadata": {
        "trusted": true
      },
      "cell_type": "code",
      "source": "# ou can also use the values() function to return values of a dictionary:\n\nfor x in thisdict.values():\n  print(x)",
      "execution_count": 72,
      "outputs": [
        {
          "output_type": "stream",
          "text": "Ford\nMustang\n2018\n",
          "name": "stdout"
        }
      ]
    },
    {
      "metadata": {
        "trusted": true
      },
      "cell_type": "code",
      "source": "# Check if Key Exists\nthisdict = {\n  \"brand\": \"Ford\",\n  \"model\": \"Mustang\",\n  \"year\": 1964\n}\nif \"model\" in thisdict:\n  print(\"Yes, 'model' is one of the keys in the thisdict dictionary\")",
      "execution_count": 73,
      "outputs": [
        {
          "output_type": "stream",
          "text": "Yes, 'model' is one of the keys in the thisdict dictionary\n",
          "name": "stdout"
        }
      ]
    },
    {
      "metadata": {
        "trusted": true
      },
      "cell_type": "code",
      "source": "# Adding Items\nthisdict = {\n  \"brand\": \"Ford\",\n  \"model\": \"Mustang\",\n  \"year\": 1964\n}\nthisdict[\"color\"] = \"red\"\nprint(thisdict)",
      "execution_count": 74,
      "outputs": [
        {
          "output_type": "stream",
          "text": "{'brand': 'Ford', 'model': 'Mustang', 'year': 1964, 'color': 'red'}\n",
          "name": "stdout"
        }
      ]
    },
    {
      "metadata": {
        "trusted": true
      },
      "cell_type": "code",
      "source": "# Removing Items\n# The pop() method removes the item with the specified key name:\n\nthisdict = {\n  \"brand\": \"Ford\",\n  \"model\": \"Mustang\",\n  \"year\": 1964\n}\nthisdict.pop(\"model\")\nprint(thisdict)\n\n# The popitem() method removes the last inserted item (in versions before 3.7, a random item is removed instead):\n\nthisdict = {\n  \"brand\": \"Ford\",\n  \"model\": \"Mustang\",\n  \"year\": 1964\n}\nthisdict.popitem()\nprint(thisdict)\n\n# The del keyword removes the item with the specified key name:\n\nthisdict = {\n  \"brand\": \"Ford\",\n  \"model\": \"Mustang\",\n  \"year\": 1964\n}\ndel thisdict[\"model\"]\nprint(thisdict)",
      "execution_count": 77,
      "outputs": [
        {
          "output_type": "stream",
          "text": "{'brand': 'Ford', 'year': 1964}\n{'brand': 'Ford', 'model': 'Mustang'}\n{'brand': 'Ford', 'year': 1964}\n",
          "name": "stdout"
        }
      ]
    },
    {
      "metadata": {
        "trusted": true
      },
      "cell_type": "code",
      "source": "# Copy a Dictionary\n# You cannot copy a dictionary simply by typing dict2 = dict1, because: dict2 will only be a reference to dict1,\n# and changes made in dict1 will automatically also be made in dict2.\n# There are ways to make a copy, one way is to use the built-in Dictionary method copy().",
      "execution_count": null,
      "outputs": []
    },
    {
      "metadata": {
        "trusted": true
      },
      "cell_type": "code",
      "source": "# Make a copy of a dictionary with the copy() method:\n\nthisdict = {\n  \"brand\": \"Ford\",\n  \"model\": \"Mustang\",\n  \"year\": 1964\n}\nmydict = thisdict.copy()\nprint(mydict)",
      "execution_count": 78,
      "outputs": [
        {
          "output_type": "stream",
          "text": "{'brand': 'Ford', 'model': 'Mustang', 'year': 1964}\n",
          "name": "stdout"
        }
      ]
    },
    {
      "metadata": {
        "trusted": true
      },
      "cell_type": "code",
      "source": "# Make a copy of a dictionary with the dict() method:\n\nthisdict = {\n  \"brand\": \"Ford\",\n  \"model\": \"Mustang\",\n  \"year\": 1964\n}\nmydict = dict(thisdict)\nprint(mydict)",
      "execution_count": 79,
      "outputs": [
        {
          "output_type": "stream",
          "text": "{'brand': 'Ford', 'model': 'Mustang', 'year': 1964}\n",
          "name": "stdout"
        }
      ]
    }
  ],
  "metadata": {
    "kernelspec": {
      "name": "python36",
      "display_name": "Python 3.6",
      "language": "python"
    },
    "language_info": {
      "mimetype": "text/x-python",
      "nbconvert_exporter": "python",
      "name": "python",
      "pygments_lexer": "ipython3",
      "version": "3.6.6",
      "file_extension": ".py",
      "codemirror_mode": {
        "version": 3,
        "name": "ipython"
      }
    }
  },
  "nbformat": 4,
  "nbformat_minor": 2
}